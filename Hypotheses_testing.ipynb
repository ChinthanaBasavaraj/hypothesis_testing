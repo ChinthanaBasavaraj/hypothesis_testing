{
 "cells": [
  {
   "cell_type": "code",
   "execution_count": 16,
   "id": "11f8611e",
   "metadata": {},
   "outputs": [],
   "source": [
    "import pandas as pd\n",
    "import numpy as np\n",
    "import scipy.stats as stats"
   ]
  },
  {
   "cell_type": "code",
   "execution_count": 17,
   "id": "e1b9f93a",
   "metadata": {},
   "outputs": [
    {
     "data": {
      "text/html": [
       "<div>\n",
       "<style scoped>\n",
       "    .dataframe tbody tr th:only-of-type {\n",
       "        vertical-align: middle;\n",
       "    }\n",
       "\n",
       "    .dataframe tbody tr th {\n",
       "        vertical-align: top;\n",
       "    }\n",
       "\n",
       "    .dataframe thead th {\n",
       "        text-align: right;\n",
       "    }\n",
       "</style>\n",
       "<table border=\"1\" class=\"dataframe\">\n",
       "  <thead>\n",
       "    <tr style=\"text-align: right;\">\n",
       "      <th></th>\n",
       "      <th>Amount.Requested</th>\n",
       "      <th>Amount.Funded.By.Investors</th>\n",
       "      <th>Interest.Rate</th>\n",
       "      <th>Loan.Length</th>\n",
       "      <th>Loan.Purpose</th>\n",
       "      <th>Debt.To.Income.Ratio</th>\n",
       "      <th>State</th>\n",
       "      <th>Home.Ownership</th>\n",
       "      <th>Monthly.Income</th>\n",
       "      <th>FICO.Range</th>\n",
       "      <th>Open.CREDIT.Lines</th>\n",
       "      <th>Revolving.CREDIT.Balance</th>\n",
       "      <th>Inquiries.in.the.Last.6.Months</th>\n",
       "      <th>Employment.Length</th>\n",
       "    </tr>\n",
       "  </thead>\n",
       "  <tbody>\n",
       "    <tr>\n",
       "      <th>0</th>\n",
       "      <td>20000.0</td>\n",
       "      <td>20000.00</td>\n",
       "      <td>8.90%</td>\n",
       "      <td>36 months</td>\n",
       "      <td>debt_consolidation</td>\n",
       "      <td>14.90%</td>\n",
       "      <td>SC</td>\n",
       "      <td>MORTGAGE</td>\n",
       "      <td>6541.67</td>\n",
       "      <td>735-739</td>\n",
       "      <td>14.0</td>\n",
       "      <td>14272.0</td>\n",
       "      <td>2.0</td>\n",
       "      <td>&lt; 1 year</td>\n",
       "    </tr>\n",
       "    <tr>\n",
       "      <th>1</th>\n",
       "      <td>19200.0</td>\n",
       "      <td>19200.00</td>\n",
       "      <td>12.12%</td>\n",
       "      <td>36 months</td>\n",
       "      <td>debt_consolidation</td>\n",
       "      <td>28.36%</td>\n",
       "      <td>TX</td>\n",
       "      <td>MORTGAGE</td>\n",
       "      <td>4583.33</td>\n",
       "      <td>715-719</td>\n",
       "      <td>12.0</td>\n",
       "      <td>11140.0</td>\n",
       "      <td>1.0</td>\n",
       "      <td>2 years</td>\n",
       "    </tr>\n",
       "    <tr>\n",
       "      <th>2</th>\n",
       "      <td>35000.0</td>\n",
       "      <td>35000.00</td>\n",
       "      <td>21.98%</td>\n",
       "      <td>60 months</td>\n",
       "      <td>debt_consolidation</td>\n",
       "      <td>23.81%</td>\n",
       "      <td>CA</td>\n",
       "      <td>MORTGAGE</td>\n",
       "      <td>11500.00</td>\n",
       "      <td>690-694</td>\n",
       "      <td>14.0</td>\n",
       "      <td>21977.0</td>\n",
       "      <td>1.0</td>\n",
       "      <td>2 years</td>\n",
       "    </tr>\n",
       "    <tr>\n",
       "      <th>3</th>\n",
       "      <td>10000.0</td>\n",
       "      <td>9975.00</td>\n",
       "      <td>9.99%</td>\n",
       "      <td>36 months</td>\n",
       "      <td>debt_consolidation</td>\n",
       "      <td>14.30%</td>\n",
       "      <td>KS</td>\n",
       "      <td>MORTGAGE</td>\n",
       "      <td>3833.33</td>\n",
       "      <td>695-699</td>\n",
       "      <td>10.0</td>\n",
       "      <td>9346.0</td>\n",
       "      <td>0.0</td>\n",
       "      <td>5 years</td>\n",
       "    </tr>\n",
       "    <tr>\n",
       "      <th>4</th>\n",
       "      <td>12000.0</td>\n",
       "      <td>12000.00</td>\n",
       "      <td>11.71%</td>\n",
       "      <td>36 months</td>\n",
       "      <td>credit_card</td>\n",
       "      <td>18.78%</td>\n",
       "      <td>NJ</td>\n",
       "      <td>RENT</td>\n",
       "      <td>3195.00</td>\n",
       "      <td>695-699</td>\n",
       "      <td>11.0</td>\n",
       "      <td>14469.0</td>\n",
       "      <td>0.0</td>\n",
       "      <td>9 years</td>\n",
       "    </tr>\n",
       "    <tr>\n",
       "      <th>...</th>\n",
       "      <td>...</td>\n",
       "      <td>...</td>\n",
       "      <td>...</td>\n",
       "      <td>...</td>\n",
       "      <td>...</td>\n",
       "      <td>...</td>\n",
       "      <td>...</td>\n",
       "      <td>...</td>\n",
       "      <td>...</td>\n",
       "      <td>...</td>\n",
       "      <td>...</td>\n",
       "      <td>...</td>\n",
       "      <td>...</td>\n",
       "      <td>...</td>\n",
       "    </tr>\n",
       "    <tr>\n",
       "      <th>2495</th>\n",
       "      <td>30000.0</td>\n",
       "      <td>29950.00</td>\n",
       "      <td>16.77%</td>\n",
       "      <td>60 months</td>\n",
       "      <td>debt_consolidation</td>\n",
       "      <td>19.23%</td>\n",
       "      <td>NY</td>\n",
       "      <td>MORTGAGE</td>\n",
       "      <td>9250.00</td>\n",
       "      <td>705-709</td>\n",
       "      <td>15.0</td>\n",
       "      <td>45880.0</td>\n",
       "      <td>1.0</td>\n",
       "      <td>8 years</td>\n",
       "    </tr>\n",
       "    <tr>\n",
       "      <th>2496</th>\n",
       "      <td>16000.0</td>\n",
       "      <td>16000.00</td>\n",
       "      <td>14.09%</td>\n",
       "      <td>60 months</td>\n",
       "      <td>home_improvement</td>\n",
       "      <td>21.54%</td>\n",
       "      <td>MD</td>\n",
       "      <td>OWN</td>\n",
       "      <td>8903.25</td>\n",
       "      <td>740-744</td>\n",
       "      <td>18.0</td>\n",
       "      <td>18898.0</td>\n",
       "      <td>1.0</td>\n",
       "      <td>10+ years</td>\n",
       "    </tr>\n",
       "    <tr>\n",
       "      <th>2497</th>\n",
       "      <td>10000.0</td>\n",
       "      <td>10000.00</td>\n",
       "      <td>13.99%</td>\n",
       "      <td>36 months</td>\n",
       "      <td>debt_consolidation</td>\n",
       "      <td>4.89%</td>\n",
       "      <td>PA</td>\n",
       "      <td>MORTGAGE</td>\n",
       "      <td>2166.67</td>\n",
       "      <td>680-684</td>\n",
       "      <td>4.0</td>\n",
       "      <td>4544.0</td>\n",
       "      <td>0.0</td>\n",
       "      <td>10+ years</td>\n",
       "    </tr>\n",
       "    <tr>\n",
       "      <th>2498</th>\n",
       "      <td>6000.0</td>\n",
       "      <td>6000.00</td>\n",
       "      <td>12.42%</td>\n",
       "      <td>36 months</td>\n",
       "      <td>major_purchase</td>\n",
       "      <td>16.66%</td>\n",
       "      <td>NJ</td>\n",
       "      <td>RENT</td>\n",
       "      <td>3500.00</td>\n",
       "      <td>675-679</td>\n",
       "      <td>8.0</td>\n",
       "      <td>7753.0</td>\n",
       "      <td>0.0</td>\n",
       "      <td>5 years</td>\n",
       "    </tr>\n",
       "    <tr>\n",
       "      <th>2499</th>\n",
       "      <td>9000.0</td>\n",
       "      <td>5242.75</td>\n",
       "      <td>13.79%</td>\n",
       "      <td>36 months</td>\n",
       "      <td>debt_consolidation</td>\n",
       "      <td>6.76%</td>\n",
       "      <td>NY</td>\n",
       "      <td>RENT</td>\n",
       "      <td>3875.00</td>\n",
       "      <td>670-674</td>\n",
       "      <td>7.0</td>\n",
       "      <td>7589.0</td>\n",
       "      <td>0.0</td>\n",
       "      <td>10+ years</td>\n",
       "    </tr>\n",
       "  </tbody>\n",
       "</table>\n",
       "<p>2500 rows × 14 columns</p>\n",
       "</div>"
      ],
      "text/plain": [
       "      Amount.Requested  Amount.Funded.By.Investors Interest.Rate Loan.Length  \\\n",
       "0              20000.0                    20000.00         8.90%   36 months   \n",
       "1              19200.0                    19200.00        12.12%   36 months   \n",
       "2              35000.0                    35000.00        21.98%   60 months   \n",
       "3              10000.0                     9975.00         9.99%   36 months   \n",
       "4              12000.0                    12000.00        11.71%   36 months   \n",
       "...                ...                         ...           ...         ...   \n",
       "2495           30000.0                    29950.00        16.77%   60 months   \n",
       "2496           16000.0                    16000.00        14.09%   60 months   \n",
       "2497           10000.0                    10000.00        13.99%   36 months   \n",
       "2498            6000.0                     6000.00        12.42%   36 months   \n",
       "2499            9000.0                     5242.75        13.79%   36 months   \n",
       "\n",
       "            Loan.Purpose Debt.To.Income.Ratio State Home.Ownership  \\\n",
       "0     debt_consolidation               14.90%    SC       MORTGAGE   \n",
       "1     debt_consolidation               28.36%    TX       MORTGAGE   \n",
       "2     debt_consolidation               23.81%    CA       MORTGAGE   \n",
       "3     debt_consolidation               14.30%    KS       MORTGAGE   \n",
       "4            credit_card               18.78%    NJ           RENT   \n",
       "...                  ...                  ...   ...            ...   \n",
       "2495  debt_consolidation               19.23%    NY       MORTGAGE   \n",
       "2496    home_improvement               21.54%    MD            OWN   \n",
       "2497  debt_consolidation                4.89%    PA       MORTGAGE   \n",
       "2498      major_purchase               16.66%    NJ           RENT   \n",
       "2499  debt_consolidation                6.76%    NY           RENT   \n",
       "\n",
       "      Monthly.Income FICO.Range  Open.CREDIT.Lines  Revolving.CREDIT.Balance  \\\n",
       "0            6541.67    735-739               14.0                   14272.0   \n",
       "1            4583.33    715-719               12.0                   11140.0   \n",
       "2           11500.00    690-694               14.0                   21977.0   \n",
       "3            3833.33    695-699               10.0                    9346.0   \n",
       "4            3195.00    695-699               11.0                   14469.0   \n",
       "...              ...        ...                ...                       ...   \n",
       "2495         9250.00    705-709               15.0                   45880.0   \n",
       "2496         8903.25    740-744               18.0                   18898.0   \n",
       "2497         2166.67    680-684                4.0                    4544.0   \n",
       "2498         3500.00    675-679                8.0                    7753.0   \n",
       "2499         3875.00    670-674                7.0                    7589.0   \n",
       "\n",
       "      Inquiries.in.the.Last.6.Months Employment.Length  \n",
       "0                                2.0          < 1 year  \n",
       "1                                1.0           2 years  \n",
       "2                                1.0           2 years  \n",
       "3                                0.0           5 years  \n",
       "4                                0.0           9 years  \n",
       "...                              ...               ...  \n",
       "2495                             1.0           8 years  \n",
       "2496                             1.0         10+ years  \n",
       "2497                             0.0         10+ years  \n",
       "2498                             0.0           5 years  \n",
       "2499                             0.0         10+ years  \n",
       "\n",
       "[2500 rows x 14 columns]"
      ]
     },
     "execution_count": 17,
     "metadata": {},
     "output_type": "execute_result"
    }
   ],
   "source": [
    "loan=pd.read_csv(r'C:\\Users\\Chinthana\\Desktop\\Analytix Labs\\Case Studies\\Python\\Basic Statistics - Hypothesis Testing\\LoansData.csv')\n",
    "loan"
   ]
  },
  {
   "cell_type": "code",
   "execution_count": 18,
   "id": "d4028a85",
   "metadata": {},
   "outputs": [
    {
     "data": {
      "text/plain": [
       "Amount.Requested                  float64\n",
       "Amount.Funded.By.Investors        float64\n",
       "Interest.Rate                      object\n",
       "Loan.Length                        object\n",
       "Loan.Purpose                       object\n",
       "Debt.To.Income.Ratio               object\n",
       "State                              object\n",
       "Home.Ownership                     object\n",
       "Monthly.Income                    float64\n",
       "FICO.Range                         object\n",
       "Open.CREDIT.Lines                 float64\n",
       "Revolving.CREDIT.Balance          float64\n",
       "Inquiries.in.the.Last.6.Months    float64\n",
       "Employment.Length                  object\n",
       "dtype: object"
      ]
     },
     "execution_count": 18,
     "metadata": {},
     "output_type": "execute_result"
    }
   ],
   "source": [
    "loan.dtypes"
   ]
  },
  {
   "cell_type": "code",
   "execution_count": 19,
   "id": "2a9913cd",
   "metadata": {},
   "outputs": [
    {
     "data": {
      "text/plain": [
       "Index(['Amount.Requested', 'Amount.Funded.By.Investors', 'Interest.Rate',\n",
       "       'Loan.Length', 'Loan.Purpose', 'Debt.To.Income.Ratio', 'State',\n",
       "       'Home.Ownership', 'Monthly.Income', 'FICO.Range', 'Open.CREDIT.Lines',\n",
       "       'Revolving.CREDIT.Balance', 'Inquiries.in.the.Last.6.Months',\n",
       "       'Employment.Length'],\n",
       "      dtype='object')"
      ]
     },
     "execution_count": 19,
     "metadata": {},
     "output_type": "execute_result"
    }
   ],
   "source": [
    "loan.columns"
   ]
  },
  {
   "cell_type": "code",
   "execution_count": 20,
   "id": "5d59ece6",
   "metadata": {},
   "outputs": [
    {
     "data": {
      "text/plain": [
       "Index(['Amount_Requested', 'Amount_Funded_By_Investors', 'Interest_Rate',\n",
       "       'Loan_Length', 'Loan_Purpose', 'Debt_To_Income_Ratio', 'State',\n",
       "       'Home_Ownership', 'Monthly_Income', 'FICO_Range', 'Open_CREDIT_Lines',\n",
       "       'Revolving_CREDIT_Balance', 'Inquiries_in_the_Last_6_Months',\n",
       "       'Employment_Length'],\n",
       "      dtype='object')"
      ]
     },
     "execution_count": 20,
     "metadata": {},
     "output_type": "execute_result"
    }
   ],
   "source": [
    "loan.columns=[var.replace('.', '_') for var in loan.columns]\n",
    "loan.columns"
   ]
  },
  {
   "cell_type": "code",
   "execution_count": 21,
   "id": "d4878c46",
   "metadata": {},
   "outputs": [
    {
     "data": {
      "text/html": [
       "<div>\n",
       "<style scoped>\n",
       "    .dataframe tbody tr th:only-of-type {\n",
       "        vertical-align: middle;\n",
       "    }\n",
       "\n",
       "    .dataframe tbody tr th {\n",
       "        vertical-align: top;\n",
       "    }\n",
       "\n",
       "    .dataframe thead th {\n",
       "        text-align: right;\n",
       "    }\n",
       "</style>\n",
       "<table border=\"1\" class=\"dataframe\">\n",
       "  <thead>\n",
       "    <tr style=\"text-align: right;\">\n",
       "      <th></th>\n",
       "      <th>Amount_Requested</th>\n",
       "      <th>Amount_Funded_By_Investors</th>\n",
       "      <th>Interest_Rate</th>\n",
       "      <th>Loan_Length</th>\n",
       "      <th>Loan_Purpose</th>\n",
       "      <th>Debt_To_Income_Ratio</th>\n",
       "      <th>State</th>\n",
       "      <th>Home_Ownership</th>\n",
       "      <th>Monthly_Income</th>\n",
       "      <th>FICO_Range</th>\n",
       "      <th>Open_CREDIT_Lines</th>\n",
       "      <th>Revolving_CREDIT_Balance</th>\n",
       "      <th>Inquiries_in_the_Last_6_Months</th>\n",
       "      <th>Employment_Length</th>\n",
       "    </tr>\n",
       "  </thead>\n",
       "  <tbody>\n",
       "    <tr>\n",
       "      <th>366</th>\n",
       "      <td>5000.0</td>\n",
       "      <td>4525.0</td>\n",
       "      <td>7.43%</td>\n",
       "      <td>36 months</td>\n",
       "      <td>other</td>\n",
       "      <td>1%</td>\n",
       "      <td>NY</td>\n",
       "      <td>NONE</td>\n",
       "      <td>NaN</td>\n",
       "      <td>800-804</td>\n",
       "      <td>NaN</td>\n",
       "      <td>NaN</td>\n",
       "      <td>NaN</td>\n",
       "      <td>&lt; 1 year</td>\n",
       "    </tr>\n",
       "    <tr>\n",
       "      <th>1594</th>\n",
       "      <td>3500.0</td>\n",
       "      <td>225.0</td>\n",
       "      <td>10.28%</td>\n",
       "      <td>36 months</td>\n",
       "      <td>other</td>\n",
       "      <td>10%</td>\n",
       "      <td>NY</td>\n",
       "      <td>RENT</td>\n",
       "      <td>15000.00</td>\n",
       "      <td>685-689</td>\n",
       "      <td>NaN</td>\n",
       "      <td>NaN</td>\n",
       "      <td>NaN</td>\n",
       "      <td>&lt; 1 year</td>\n",
       "    </tr>\n",
       "    <tr>\n",
       "      <th>2491</th>\n",
       "      <td>8475.0</td>\n",
       "      <td>8475.0</td>\n",
       "      <td>7.62%</td>\n",
       "      <td>36 months</td>\n",
       "      <td>debt_consolidation</td>\n",
       "      <td>15.88%</td>\n",
       "      <td>CA</td>\n",
       "      <td>RENT</td>\n",
       "      <td>3983.33</td>\n",
       "      <td>720-724</td>\n",
       "      <td>9.0</td>\n",
       "      <td>6882.0</td>\n",
       "      <td>NaN</td>\n",
       "      <td>NaN</td>\n",
       "    </tr>\n",
       "  </tbody>\n",
       "</table>\n",
       "</div>"
      ],
      "text/plain": [
       "      Amount_Requested  Amount_Funded_By_Investors Interest_Rate Loan_Length  \\\n",
       "366             5000.0                      4525.0         7.43%   36 months   \n",
       "1594            3500.0                       225.0        10.28%   36 months   \n",
       "2491            8475.0                      8475.0         7.62%   36 months   \n",
       "\n",
       "            Loan_Purpose Debt_To_Income_Ratio State Home_Ownership  \\\n",
       "366                other                   1%    NY           NONE   \n",
       "1594               other                  10%    NY           RENT   \n",
       "2491  debt_consolidation               15.88%    CA           RENT   \n",
       "\n",
       "      Monthly_Income FICO_Range  Open_CREDIT_Lines  Revolving_CREDIT_Balance  \\\n",
       "366              NaN    800-804                NaN                       NaN   \n",
       "1594        15000.00    685-689                NaN                       NaN   \n",
       "2491         3983.33    720-724                9.0                    6882.0   \n",
       "\n",
       "      Inquiries_in_the_Last_6_Months Employment_Length  \n",
       "366                              NaN          < 1 year  \n",
       "1594                             NaN          < 1 year  \n",
       "2491                             NaN               NaN  "
      ]
     },
     "execution_count": 21,
     "metadata": {},
     "output_type": "execute_result"
    }
   ],
   "source": [
    "loan[loan.Inquiries_in_the_Last_6_Months.isna()]"
   ]
  },
  {
   "cell_type": "code",
   "execution_count": 22,
   "id": "8e2993e2",
   "metadata": {},
   "outputs": [
    {
     "data": {
      "text/plain": [
       "0        8.90\n",
       "1       12.12\n",
       "2       21.98\n",
       "3        9.99\n",
       "4       11.71\n",
       "        ...  \n",
       "2495    16.77\n",
       "2496    14.09\n",
       "2497    13.99\n",
       "2498    12.42\n",
       "2499    13.79\n",
       "Name: Interest_Rate, Length: 2500, dtype: float64"
      ]
     },
     "execution_count": 22,
     "metadata": {},
     "output_type": "execute_result"
    }
   ],
   "source": [
    "loan['Interest_Rate']=loan.Interest_Rate.apply(lambda x:str(x).replace('%', '')).astype('float')\n",
    "loan['Interest_Rate']"
   ]
  },
  {
   "cell_type": "code",
   "execution_count": 23,
   "id": "b9fbbeea",
   "metadata": {},
   "outputs": [
    {
     "data": {
      "text/plain": [
       "Amount_Requested                  float64\n",
       "Amount_Funded_By_Investors        float64\n",
       "Interest_Rate                     float64\n",
       "Loan_Length                        object\n",
       "Loan_Purpose                       object\n",
       "Debt_To_Income_Ratio               object\n",
       "State                              object\n",
       "Home_Ownership                     object\n",
       "Monthly_Income                    float64\n",
       "FICO_Range                         object\n",
       "Open_CREDIT_Lines                 float64\n",
       "Revolving_CREDIT_Balance          float64\n",
       "Inquiries_in_the_Last_6_Months    float64\n",
       "Employment_Length                  object\n",
       "dtype: object"
      ]
     },
     "execution_count": 23,
     "metadata": {},
     "output_type": "execute_result"
    }
   ],
   "source": [
    "loan.dtypes"
   ]
  },
  {
   "cell_type": "code",
   "execution_count": 24,
   "id": "e83aed12",
   "metadata": {},
   "outputs": [
    {
     "data": {
      "text/plain": [
       "0       14.90\n",
       "1       28.36\n",
       "2       23.81\n",
       "3       14.30\n",
       "4       18.78\n",
       "        ...  \n",
       "2495    19.23\n",
       "2496    21.54\n",
       "2497     4.89\n",
       "2498    16.66\n",
       "2499     6.76\n",
       "Name: Debt_To_Income_Ratio, Length: 2500, dtype: float64"
      ]
     },
     "execution_count": 24,
     "metadata": {},
     "output_type": "execute_result"
    }
   ],
   "source": [
    "loan['Debt_To_Income_Ratio']=loan.Debt_To_Income_Ratio.apply(lambda x:str(x).replace('%', '')).astype('float')\n",
    "loan['Debt_To_Income_Ratio']"
   ]
  },
  {
   "cell_type": "code",
   "execution_count": 25,
   "id": "b16818e9",
   "metadata": {},
   "outputs": [
    {
     "data": {
      "text/plain": [
       "Amount_Requested                  float64\n",
       "Amount_Funded_By_Investors        float64\n",
       "Interest_Rate                     float64\n",
       "Loan_Length                        object\n",
       "Loan_Purpose                       object\n",
       "Debt_To_Income_Ratio              float64\n",
       "State                              object\n",
       "Home_Ownership                     object\n",
       "Monthly_Income                    float64\n",
       "FICO_Range                         object\n",
       "Open_CREDIT_Lines                 float64\n",
       "Revolving_CREDIT_Balance          float64\n",
       "Inquiries_in_the_Last_6_Months    float64\n",
       "Employment_Length                  object\n",
       "dtype: object"
      ]
     },
     "execution_count": 25,
     "metadata": {},
     "output_type": "execute_result"
    }
   ],
   "source": [
    "loan.dtypes"
   ]
  },
  {
   "cell_type": "code",
   "execution_count": 26,
   "id": "3f406fbd",
   "metadata": {},
   "outputs": [
    {
     "data": {
      "text/plain": [
       "0        8.90\n",
       "1       12.12\n",
       "2       21.98\n",
       "3        9.99\n",
       "4       11.71\n",
       "        ...  \n",
       "2495    16.77\n",
       "2496    14.09\n",
       "2497    13.99\n",
       "2498    12.42\n",
       "2499    13.79\n",
       "Name: Interest_Rate, Length: 2500, dtype: float64"
      ]
     },
     "execution_count": 26,
     "metadata": {},
     "output_type": "execute_result"
    }
   ],
   "source": [
    "loan.Interest_Rate"
   ]
  },
  {
   "cell_type": "code",
   "execution_count": 27,
   "id": "8329b3dd",
   "metadata": {
    "scrolled": true
   },
   "outputs": [
    {
     "data": {
      "text/plain": [
       "Amount_Requested                  float64\n",
       "Amount_Funded_By_Investors        float64\n",
       "Interest_Rate                     float64\n",
       "Loan_Length                        object\n",
       "Loan_Purpose                       object\n",
       "Debt_To_Income_Ratio              float64\n",
       "State                              object\n",
       "Home_Ownership                     object\n",
       "Monthly_Income                    float64\n",
       "FICO_Range                         object\n",
       "Open_CREDIT_Lines                 float64\n",
       "Revolving_CREDIT_Balance          float64\n",
       "Inquiries_in_the_Last_6_Months    float64\n",
       "Employment_Length                  object\n",
       "dtype: object"
      ]
     },
     "execution_count": 27,
     "metadata": {},
     "output_type": "execute_result"
    }
   ],
   "source": [
    "loan.dtypes"
   ]
  },
  {
   "cell_type": "code",
   "execution_count": 28,
   "id": "d40cb1d1",
   "metadata": {
    "scrolled": true
   },
   "outputs": [
    {
     "data": {
      "text/plain": [
       "Amount_Requested                   1\n",
       "Amount_Funded_By_Investors         1\n",
       "Interest_Rate                      2\n",
       "Loan_Length                        0\n",
       "Loan_Purpose                       0\n",
       "Debt_To_Income_Ratio               1\n",
       "State                              0\n",
       "Home_Ownership                     1\n",
       "Monthly_Income                     1\n",
       "FICO_Range                         2\n",
       "Open_CREDIT_Lines                  3\n",
       "Revolving_CREDIT_Balance           3\n",
       "Inquiries_in_the_Last_6_Months     3\n",
       "Employment_Length                 77\n",
       "dtype: int64"
      ]
     },
     "execution_count": 28,
     "metadata": {},
     "output_type": "execute_result"
    }
   ],
   "source": [
    "loan.isna().sum()"
   ]
  },
  {
   "cell_type": "code",
   "execution_count": 29,
   "id": "d2a594a2",
   "metadata": {},
   "outputs": [],
   "source": [
    "def miss(x):\n",
    "    if x.dtype=='O':\n",
    "        x= x.fillna(x.mode()[0])\n",
    "    elif ((x.dtype=='float') | (x.dtype=='int')):\n",
    "        x=x.fillna(x.mean())\n",
    "    return x"
   ]
  },
  {
   "cell_type": "code",
   "execution_count": 30,
   "id": "9c5efccc",
   "metadata": {},
   "outputs": [],
   "source": [
    "loan=loan.apply(miss)"
   ]
  },
  {
   "cell_type": "code",
   "execution_count": 31,
   "id": "14f457c6",
   "metadata": {},
   "outputs": [
    {
     "data": {
      "text/plain": [
       "Amount_Requested                  0\n",
       "Amount_Funded_By_Investors        0\n",
       "Interest_Rate                     0\n",
       "Loan_Length                       0\n",
       "Loan_Purpose                      0\n",
       "Debt_To_Income_Ratio              0\n",
       "State                             0\n",
       "Home_Ownership                    0\n",
       "Monthly_Income                    0\n",
       "FICO_Range                        0\n",
       "Open_CREDIT_Lines                 0\n",
       "Revolving_CREDIT_Balance          0\n",
       "Inquiries_in_the_Last_6_Months    0\n",
       "Employment_Length                 0\n",
       "dtype: int64"
      ]
     },
     "execution_count": 31,
     "metadata": {},
     "output_type": "execute_result"
    }
   ],
   "source": [
    "loan.isna().sum()"
   ]
  },
  {
   "cell_type": "code",
   "execution_count": 32,
   "id": "01373f63",
   "metadata": {},
   "outputs": [
    {
     "data": {
      "text/plain": [
       "0       735\n",
       "1       715\n",
       "2       690\n",
       "3       695\n",
       "4       695\n",
       "       ... \n",
       "2495    705\n",
       "2496    740\n",
       "2497    680\n",
       "2498    675\n",
       "2499    670\n",
       "Name: FICO, Length: 2500, dtype: int32"
      ]
     },
     "execution_count": 32,
     "metadata": {},
     "output_type": "execute_result"
    }
   ],
   "source": [
    "loan['FICO']=loan.FICO_Range.str[0:3].astype('int')\n",
    "loan['FICO']"
   ]
  },
  {
   "cell_type": "code",
   "execution_count": 33,
   "id": "d9b57838",
   "metadata": {},
   "outputs": [],
   "source": [
    "# Question-1a: Relationship between Interest_Rate and Amount_Funded_By_Investors\n",
    "\n",
    "#Type of samples: two independt samples\n",
    "#objective: find the relationship\n",
    "#Types of variables: both are numerical\n",
    "#Type of Test: correlation test\n",
    "\n",
    "#H0: S_corr = 0\n",
    "#Ha: S_corr<>0\n",
    "\n",
    "# Function is scipy.stats = stats.pearsonr()\n",
    "\n",
    "# confidence levels = 95% confidence levels\n",
    "\n",
    "#p-value<0.05 , reject null hypothesis"
   ]
  },
  {
   "cell_type": "code",
   "execution_count": 34,
   "id": "26ef3f38",
   "metadata": {
    "scrolled": true
   },
   "outputs": [
    {
     "data": {
      "text/plain": [
       "(0.33742660344157105, 1.2764840056932822e-67)"
      ]
     },
     "execution_count": 34,
     "metadata": {},
     "output_type": "execute_result"
    }
   ],
   "source": [
    "stats.pearsonr(loan.Interest_Rate, loan.Amount_Funded_By_Investors)"
   ]
  },
  {
   "cell_type": "code",
   "execution_count": 35,
   "id": "ad359a53",
   "metadata": {},
   "outputs": [],
   "source": [
    "# conclusion: pvalue<0.05, so we can reject null and accept alternate hypothesis\n",
    "# buisness conclusion: Interest_Rate is directly proportional to Amount_Funded_By_Investors .Hence the hypothesis, less interest is charged for high amounts is not proved\n",
    "# Relationship : positive\n",
    "# Strength of relationship : weak\n"
   ]
  },
  {
   "cell_type": "code",
   "execution_count": 36,
   "id": "362016c4",
   "metadata": {},
   "outputs": [],
   "source": [
    "#Question 1b - \n",
    "\n",
    "#Type of samples: independent samples\n",
    "#Type of Test: indpendent t-test\n",
    "\n",
    "#H0: Avg_36months_interest_rate = Avg_60months_interest_rate\n",
    "#Ha: Avg_36months_interest_rate <> Avg_60months_interest_rate\n",
    "\n",
    "# Function is scipy.stats = stats.ttest_ind\n",
    "\n",
    "# confidence levels = 95% confidence levels\n",
    "\n",
    "#p-value<0.05 to reject null hypothesis"
   ]
  },
  {
   "cell_type": "code",
   "execution_count": 37,
   "id": "13fed736",
   "metadata": {},
   "outputs": [
    {
     "data": {
      "text/plain": [
       "0        8.90\n",
       "1       12.12\n",
       "3        9.99\n",
       "4       11.71\n",
       "5       15.31\n",
       "        ...  \n",
       "2492    10.08\n",
       "2494    14.65\n",
       "2497    13.99\n",
       "2498    12.42\n",
       "2499    13.79\n",
       "Name: Interest_Rate, Length: 1952, dtype: float64"
      ]
     },
     "execution_count": 37,
     "metadata": {},
     "output_type": "execute_result"
    }
   ],
   "source": [
    "interest_36months=loan.Interest_Rate[loan.Loan_Length=='36 months']\n",
    "interest_36months"
   ]
  },
  {
   "cell_type": "code",
   "execution_count": 38,
   "id": "92920c61",
   "metadata": {},
   "outputs": [
    {
     "data": {
      "text/plain": [
       "2       21.98\n",
       "7       17.14\n",
       "12      21.67\n",
       "15      15.65\n",
       "17      10.37\n",
       "        ...  \n",
       "2472    22.45\n",
       "2479    15.80\n",
       "2493    23.28\n",
       "2495    16.77\n",
       "2496    14.09\n",
       "Name: Interest_Rate, Length: 548, dtype: float64"
      ]
     },
     "execution_count": 38,
     "metadata": {},
     "output_type": "execute_result"
    }
   ],
   "source": [
    "interest_60months=loan.Interest_Rate[loan.Loan_Length=='60 months']\n",
    "interest_60months"
   ]
  },
  {
   "cell_type": "code",
   "execution_count": 39,
   "id": "75e5524e",
   "metadata": {},
   "outputs": [
    {
     "data": {
      "text/plain": [
       "Ttest_indResult(statistic=-23.41049023613487, pvalue=9.549596064332559e-110)"
      ]
     },
     "execution_count": 39,
     "metadata": {},
     "output_type": "execute_result"
    }
   ],
   "source": [
    "stats.ttest_ind(interest_36months, interest_60months )"
   ]
  },
  {
   "cell_type": "code",
   "execution_count": 40,
   "id": "e49323ae",
   "metadata": {},
   "outputs": [],
   "source": [
    "#Conclusion: p<0.05, we can reject null given the confidnece levels\n",
    "#Business conclusion: if the sample size is fine, there is no similarity in 36months interest rate & 60months interest rate i.e loan length is directly affecting interest rate"
   ]
  },
  {
   "cell_type": "code",
   "execution_count": 41,
   "id": "0021b09c",
   "metadata": {},
   "outputs": [],
   "source": [
    "#Question-1c: different pupose of loans are similar or different in interest rate\n",
    "\n",
    "#Type of samples: multiple independentt samples\n",
    "#Type of Test: f-test\n",
    "\n",
    "#H0: Avg_s1= Avg_s2 =Avg_s3.....Avg_sn\n",
    "#Ha: one of the purpose of loans average is different from others\n",
    "\n",
    "# Function is scipy.stats = stats.f_1way\n",
    "\n",
    "# confidence levels = 95% confidence levels\n",
    "\n",
    "#p-value<0.05 to reject null hypothesis"
   ]
  },
  {
   "cell_type": "code",
   "execution_count": 42,
   "id": "ab4825df",
   "metadata": {},
   "outputs": [
    {
     "data": {
      "text/plain": [
       "debt_consolidation    1307\n",
       "credit_card            444\n",
       "other                  201\n",
       "home_improvement       152\n",
       "major_purchase         101\n",
       "small_business          87\n",
       "car                     50\n",
       "wedding                 39\n",
       "medical                 30\n",
       "moving                  29\n",
       "vacation                21\n",
       "house                   20\n",
       "educational             15\n",
       "renewable_energy         4\n",
       "Name: Loan_Purpose, dtype: int64"
      ]
     },
     "execution_count": 42,
     "metadata": {},
     "output_type": "execute_result"
    }
   ],
   "source": [
    "loan.Loan_Purpose.value_counts()\n"
   ]
  },
  {
   "cell_type": "code",
   "execution_count": 43,
   "id": "f64665d7",
   "metadata": {},
   "outputs": [
    {
     "data": {
      "text/plain": [
       "0        8.90\n",
       "1       12.12\n",
       "2       21.98\n",
       "3        9.99\n",
       "6        7.90\n",
       "        ...  \n",
       "2492    10.08\n",
       "2494    14.65\n",
       "2495    16.77\n",
       "2497    13.99\n",
       "2499    13.79\n",
       "Name: Interest_Rate, Length: 1307, dtype: float64"
      ]
     },
     "execution_count": 43,
     "metadata": {},
     "output_type": "execute_result"
    }
   ],
   "source": [
    "debt_interest=loan.Interest_Rate[loan.Loan_Purpose=='debt_consolidation']\n",
    "debt_interest"
   ]
  },
  {
   "cell_type": "code",
   "execution_count": 44,
   "id": "7dac2939",
   "metadata": {},
   "outputs": [
    {
     "data": {
      "text/plain": [
       "4       11.710000\n",
       "7       17.140000\n",
       "8       14.330000\n",
       "9        6.910000\n",
       "18       9.760000\n",
       "          ...    \n",
       "2463     7.900000\n",
       "2467     7.290000\n",
       "2476    14.090000\n",
       "2478    11.710000\n",
       "2484    13.065388\n",
       "Name: Interest_Rate, Length: 444, dtype: float64"
      ]
     },
     "execution_count": 44,
     "metadata": {},
     "output_type": "execute_result"
    }
   ],
   "source": [
    "credit_card_interest=loan.Interest_Rate[loan.Loan_Purpose=='credit_card']\n",
    "credit_card_interest"
   ]
  },
  {
   "cell_type": "code",
   "execution_count": 45,
   "id": "439a5c5b",
   "metadata": {},
   "outputs": [
    {
     "data": {
      "text/plain": [
       "5       15.31\n",
       "28       8.59\n",
       "48       7.49\n",
       "51      17.44\n",
       "57       9.99\n",
       "        ...  \n",
       "2443    14.59\n",
       "2450    14.79\n",
       "2468     7.29\n",
       "2486    17.27\n",
       "2493    23.28\n",
       "Name: Interest_Rate, Length: 201, dtype: float64"
      ]
     },
     "execution_count": 45,
     "metadata": {},
     "output_type": "execute_result"
    }
   ],
   "source": [
    "other_interest=loan.Interest_Rate[loan.Loan_Purpose=='other']\n",
    "other_interest"
   ]
  },
  {
   "cell_type": "code",
   "execution_count": 46,
   "id": "e845467d",
   "metadata": {},
   "outputs": [
    {
     "data": {
      "text/plain": [
       "37       7.62\n",
       "39      12.49\n",
       "40      17.27\n",
       "69      14.09\n",
       "88       7.51\n",
       "        ...  \n",
       "2461     7.90\n",
       "2462    11.49\n",
       "2465     6.03\n",
       "2466    22.47\n",
       "2496    14.09\n",
       "Name: Interest_Rate, Length: 152, dtype: float64"
      ]
     },
     "execution_count": 46,
     "metadata": {},
     "output_type": "execute_result"
    }
   ],
   "source": [
    "home_improvement_interest=loan.Interest_Rate[loan.Loan_Purpose=='home_improvement']\n",
    "home_improvement_interest"
   ]
  },
  {
   "cell_type": "code",
   "execution_count": 47,
   "id": "c3f6e2da",
   "metadata": {},
   "outputs": [
    {
     "data": {
      "text/plain": [
       "45      11.86\n",
       "95       6.62\n",
       "152     10.75\n",
       "163     10.16\n",
       "175     10.38\n",
       "        ...  \n",
       "2421     5.79\n",
       "2432    11.49\n",
       "2473    15.13\n",
       "2475    14.09\n",
       "2498    12.42\n",
       "Name: Interest_Rate, Length: 101, dtype: float64"
      ]
     },
     "execution_count": 47,
     "metadata": {},
     "output_type": "execute_result"
    }
   ],
   "source": [
    "major_purchase_interest=loan.Interest_Rate[loan.Loan_Purpose=='major_purchase']\n",
    "major_purchase_interest"
   ]
  },
  {
   "cell_type": "code",
   "execution_count": 48,
   "id": "dfb780cc",
   "metadata": {},
   "outputs": [
    {
     "data": {
      "text/plain": [
       "92      15.81\n",
       "104     10.65\n",
       "110      7.90\n",
       "117     14.09\n",
       "136      6.62\n",
       "        ...  \n",
       "2435    20.52\n",
       "2454    18.64\n",
       "2480     6.03\n",
       "2482     7.51\n",
       "2483    14.33\n",
       "Name: Interest_Rate, Length: 87, dtype: float64"
      ]
     },
     "execution_count": 48,
     "metadata": {},
     "output_type": "execute_result"
    }
   ],
   "source": [
    "small_business_interest=loan.Interest_Rate[loan.Loan_Purpose=='small_business']\n",
    "small_business_interest"
   ]
  },
  {
   "cell_type": "code",
   "execution_count": 49,
   "id": "93a4c126",
   "metadata": {},
   "outputs": [
    {
     "data": {
      "text/plain": [
       "22      17.99\n",
       "33      15.80\n",
       "35       7.90\n",
       "86       8.90\n",
       "176      7.90\n",
       "292      6.03\n",
       "346     17.04\n",
       "370     14.09\n",
       "389     14.09\n",
       "394     19.72\n",
       "418      6.91\n",
       "539      7.49\n",
       "574     10.59\n",
       "590      6.99\n",
       "638     11.83\n",
       "696     13.43\n",
       "789     11.71\n",
       "891     13.67\n",
       "904     13.99\n",
       "941     13.47\n",
       "960     11.71\n",
       "984     11.12\n",
       "1005     7.88\n",
       "1016    10.00\n",
       "1059    13.16\n",
       "1079    13.23\n",
       "1149    17.99\n",
       "1192     6.62\n",
       "1215     6.03\n",
       "1325     6.03\n",
       "1379     5.79\n",
       "1410     8.90\n",
       "1424     8.90\n",
       "1496     9.25\n",
       "1627     7.90\n",
       "1633     7.62\n",
       "1658     7.62\n",
       "1707    17.14\n",
       "1880     9.63\n",
       "1921    13.11\n",
       "1950     6.62\n",
       "1985     7.49\n",
       "1991    13.49\n",
       "2011    10.36\n",
       "2116    17.49\n",
       "2209    18.25\n",
       "2338     7.90\n",
       "2402    13.93\n",
       "2434    14.33\n",
       "2444     6.62\n",
       "Name: Interest_Rate, dtype: float64"
      ]
     },
     "execution_count": 49,
     "metadata": {},
     "output_type": "execute_result"
    }
   ],
   "source": [
    "car_interest=loan.Interest_Rate[loan.Loan_Purpose=='car']\n",
    "car_interest"
   ]
  },
  {
   "cell_type": "code",
   "execution_count": 50,
   "id": "2f32c0a3",
   "metadata": {},
   "outputs": [
    {
     "data": {
      "text/plain": [
       "78      17.770000\n",
       "273     15.270000\n",
       "341      7.900000\n",
       "361     16.490000\n",
       "408      6.620000\n",
       "429      9.910000\n",
       "432      7.900000\n",
       "453      7.620000\n",
       "565     14.090000\n",
       "642     10.370000\n",
       "678      7.900000\n",
       "693     13.720000\n",
       "770     12.690000\n",
       "808     10.250000\n",
       "811     18.490000\n",
       "821     12.980000\n",
       "885      7.900000\n",
       "931      9.990000\n",
       "1064    13.110000\n",
       "1288     7.620000\n",
       "1291     8.000000\n",
       "1313     7.900000\n",
       "1319     9.910000\n",
       "1345    12.120000\n",
       "1370     5.420000\n",
       "1482    14.420000\n",
       "1483    12.840000\n",
       "1705    15.310000\n",
       "1904    12.120000\n",
       "1964    17.880000\n",
       "1965    12.420000\n",
       "2035    11.860000\n",
       "2124    13.110000\n",
       "2206    15.310000\n",
       "2222     9.630000\n",
       "2272    16.290000\n",
       "2366    12.210000\n",
       "2472    22.450000\n",
       "2487    13.065388\n",
       "Name: Interest_Rate, dtype: float64"
      ]
     },
     "execution_count": 50,
     "metadata": {},
     "output_type": "execute_result"
    }
   ],
   "source": [
    "wedding_interest=loan.Interest_Rate[loan.Loan_Purpose=='wedding']\n",
    "wedding_interest"
   ]
  },
  {
   "cell_type": "code",
   "execution_count": 51,
   "id": "d4137706",
   "metadata": {},
   "outputs": [
    {
     "data": {
      "text/plain": [
       "65       7.90\n",
       "234     14.09\n",
       "261     14.65\n",
       "291     15.80\n",
       "294     14.12\n",
       "340      5.42\n",
       "423      7.29\n",
       "837     23.28\n",
       "848      7.90\n",
       "879     13.11\n",
       "1250     6.03\n",
       "1293     6.62\n",
       "1309     7.62\n",
       "1355     6.03\n",
       "1576    13.11\n",
       "1577     7.90\n",
       "1582    16.29\n",
       "1690    14.27\n",
       "1779    13.57\n",
       "1852     6.99\n",
       "1854    14.22\n",
       "1946    17.49\n",
       "2000    10.59\n",
       "2022     7.49\n",
       "2038    19.69\n",
       "2123     7.51\n",
       "2182     6.54\n",
       "2189    13.98\n",
       "2238    13.99\n",
       "2451    16.00\n",
       "Name: Interest_Rate, dtype: float64"
      ]
     },
     "execution_count": 51,
     "metadata": {},
     "output_type": "execute_result"
    }
   ],
   "source": [
    "medical_interest=loan.Interest_Rate[loan.Loan_Purpose=='medical']\n",
    "medical_interest"
   ]
  },
  {
   "cell_type": "code",
   "execution_count": 52,
   "id": "457156cc",
   "metadata": {},
   "outputs": [
    {
     "data": {
      "text/plain": [
       "10      19.72\n",
       "195      6.17\n",
       "209     13.11\n",
       "228     24.89\n",
       "349     10.99\n",
       "435      5.79\n",
       "497     12.21\n",
       "524     14.84\n",
       "659     14.33\n",
       "756     15.31\n",
       "1046    11.71\n",
       "1152     6.76\n",
       "1183    11.83\n",
       "1347    12.68\n",
       "1420    10.75\n",
       "1711    19.05\n",
       "1729     7.88\n",
       "1870    10.38\n",
       "1929    23.76\n",
       "1960    14.65\n",
       "1974    17.49\n",
       "2082    15.31\n",
       "2106    14.83\n",
       "2167    12.42\n",
       "2251    14.22\n",
       "2374     7.51\n",
       "2383    19.72\n",
       "2415    15.96\n",
       "2469    10.74\n",
       "Name: Interest_Rate, dtype: float64"
      ]
     },
     "execution_count": 52,
     "metadata": {},
     "output_type": "execute_result"
    }
   ],
   "source": [
    "moving_interest=loan.Interest_Rate[loan.Loan_Purpose=='moving']\n",
    "moving_interest"
   ]
  },
  {
   "cell_type": "code",
   "execution_count": 53,
   "id": "c5cad7c4",
   "metadata": {},
   "outputs": [
    {
     "data": {
      "text/plain": [
       "24      16.82\n",
       "111      6.03\n",
       "130      9.76\n",
       "575      7.29\n",
       "1006    12.12\n",
       "1134    16.77\n",
       "1141    13.98\n",
       "1197     7.88\n",
       "1200    18.39\n",
       "1302    14.59\n",
       "1308     5.42\n",
       "1349    13.67\n",
       "1688     8.94\n",
       "1802    10.99\n",
       "1806    11.49\n",
       "1850    14.65\n",
       "1895    15.80\n",
       "1952     6.91\n",
       "2033    17.56\n",
       "2054     7.90\n",
       "2367    14.33\n",
       "Name: Interest_Rate, dtype: float64"
      ]
     },
     "execution_count": 53,
     "metadata": {},
     "output_type": "execute_result"
    }
   ],
   "source": [
    "vacation_interest=loan.Interest_Rate[loan.Loan_Purpose=='vacation']\n",
    "vacation_interest"
   ]
  },
  {
   "cell_type": "code",
   "execution_count": 54,
   "id": "5b3d53b6",
   "metadata": {},
   "outputs": [
    {
     "data": {
      "text/plain": [
       "43      21.74\n",
       "339     22.47\n",
       "369     13.11\n",
       "536     15.21\n",
       "806      9.63\n",
       "936      7.90\n",
       "1035    14.96\n",
       "1067     6.03\n",
       "1114    15.96\n",
       "1387    10.37\n",
       "1389    21.67\n",
       "1573    16.32\n",
       "1607     6.62\n",
       "1685    11.83\n",
       "1823    16.82\n",
       "2036    13.06\n",
       "2197    13.06\n",
       "2225     5.99\n",
       "2387    12.12\n",
       "2403    14.09\n",
       "Name: Interest_Rate, dtype: float64"
      ]
     },
     "execution_count": 54,
     "metadata": {},
     "output_type": "execute_result"
    }
   ],
   "source": [
    "house_interest=loan.Interest_Rate[loan.Loan_Purpose=='house']\n",
    "house_interest"
   ]
  },
  {
   "cell_type": "code",
   "execution_count": 55,
   "id": "4318a187",
   "metadata": {},
   "outputs": [
    {
     "data": {
      "text/plain": [
       "59       8.59\n",
       "300     18.67\n",
       "401     12.29\n",
       "940     12.61\n",
       "974     13.48\n",
       "985      7.75\n",
       "1137    14.61\n",
       "1145     7.88\n",
       "1348     6.76\n",
       "1649     9.88\n",
       "1686    13.75\n",
       "1888    12.87\n",
       "2028     7.40\n",
       "2264     9.63\n",
       "2310     8.94\n",
       "Name: Interest_Rate, dtype: float64"
      ]
     },
     "execution_count": 55,
     "metadata": {},
     "output_type": "execute_result"
    }
   ],
   "source": [
    "educational_interest=loan.Interest_Rate[loan.Loan_Purpose=='educational']\n",
    "educational_interest"
   ]
  },
  {
   "cell_type": "code",
   "execution_count": 56,
   "id": "9288c84a",
   "metadata": {},
   "outputs": [
    {
     "data": {
      "text/plain": [
       "160      6.92\n",
       "289     10.36\n",
       "1060     7.90\n",
       "2246    14.33\n",
       "Name: Interest_Rate, dtype: float64"
      ]
     },
     "execution_count": 56,
     "metadata": {},
     "output_type": "execute_result"
    }
   ],
   "source": [
    "renewable_energy_interest=loan.Interest_Rate[loan.Loan_Purpose=='renewable_energy']\n",
    "renewable_energy_interest"
   ]
  },
  {
   "cell_type": "code",
   "execution_count": 57,
   "id": "e8e1f41c",
   "metadata": {},
   "outputs": [
    {
     "data": {
      "text/plain": [
       "F_onewayResult(statistic=7.4826387840974355, pvalue=1.1599665535989115e-14)"
      ]
     },
     "execution_count": 57,
     "metadata": {},
     "output_type": "execute_result"
    }
   ],
   "source": [
    "stats.f_oneway(debt_interest, credit_card_interest, other_interest, home_improvement_interest, major_purchase_interest, small_business_interest, car_interest, wedding_interest, medical_interest, moving_interest, vacation_interest, house_interest, educational_interest, renewable_energy_interest)"
   ]
  },
  {
   "cell_type": "code",
   "execution_count": 58,
   "id": "6152f215",
   "metadata": {},
   "outputs": [],
   "source": [
    "#Conclusion: p-value<0.05, we can reject null and accept alternative hypothesis.\n",
    "#Business Conclusion: with 95% confidence we can say interest varies for diffrent purpose of loans"
   ]
  },
  {
   "cell_type": "code",
   "execution_count": 59,
   "id": "b4500bcc",
   "metadata": {},
   "outputs": [],
   "source": [
    "# Question 1d - There is relationship between FICO scores and Home Ownership. It means that, People with owning home will have high FICO scores\n",
    "\n",
    "#Type of samples: multiple independent samples\n",
    "#Type of Test: f-test\n",
    "\n",
    "#H0: Avg_s1= Avg_s2 =Avg_s3.....Avg_sn\n",
    "#Ha: one of the average is different from others (avg of own_FICO is higher)\n",
    "\n",
    "# Function is scipy.stats = stats.f_1way\n",
    "\n",
    "# confidence levels = 95% confidence levels\n",
    "\n",
    "#p-value<0.05 to reject null hypothesis\n"
   ]
  },
  {
   "cell_type": "code",
   "execution_count": 60,
   "id": "6a83822e",
   "metadata": {},
   "outputs": [
    {
     "data": {
      "text/plain": [
       "MORTGAGE    1148\n",
       "RENT        1146\n",
       "OWN          200\n",
       "OTHER          5\n",
       "NONE           1\n",
       "Name: Home_Ownership, dtype: int64"
      ]
     },
     "execution_count": 60,
     "metadata": {},
     "output_type": "execute_result"
    }
   ],
   "source": [
    "loan.Home_Ownership.value_counts()"
   ]
  },
  {
   "cell_type": "code",
   "execution_count": 61,
   "id": "0923aeb0",
   "metadata": {
    "scrolled": true
   },
   "outputs": [
    {
     "data": {
      "text/plain": [
       "0       735\n",
       "1       715\n",
       "2       690\n",
       "3       695\n",
       "7       705\n",
       "       ... \n",
       "2492    710\n",
       "2493    675\n",
       "2494    670\n",
       "2495    705\n",
       "2497    680\n",
       "Name: FICO, Length: 1148, dtype: int32"
      ]
     },
     "execution_count": 61,
     "metadata": {},
     "output_type": "execute_result"
    }
   ],
   "source": [
    "MORTGAGE_FICO=loan.FICO[loan.Home_Ownership=='MORTGAGE']\n",
    "MORTGAGE_FICO"
   ]
  },
  {
   "cell_type": "code",
   "execution_count": 62,
   "id": "8ae25f13",
   "metadata": {},
   "outputs": [
    {
     "data": {
      "text/plain": [
       "4       695\n",
       "6       720\n",
       "8       685\n",
       "9       715\n",
       "10      670\n",
       "       ... \n",
       "2489    670\n",
       "2490    710\n",
       "2491    720\n",
       "2498    675\n",
       "2499    670\n",
       "Name: FICO, Length: 1146, dtype: int32"
      ]
     },
     "execution_count": 62,
     "metadata": {},
     "output_type": "execute_result"
    }
   ],
   "source": [
    "RENT_FICO=loan.FICO[loan.Home_Ownership=='RENT']\n",
    "RENT_FICO"
   ]
  },
  {
   "cell_type": "code",
   "execution_count": 63,
   "id": "229ec7a7",
   "metadata": {},
   "outputs": [
    {
     "data": {
      "text/plain": [
       "5       670\n",
       "34      675\n",
       "54      680\n",
       "59      755\n",
       "73      665\n",
       "       ... \n",
       "2456    710\n",
       "2465    755\n",
       "2466    670\n",
       "2486    665\n",
       "2496    740\n",
       "Name: FICO, Length: 200, dtype: int32"
      ]
     },
     "execution_count": 63,
     "metadata": {},
     "output_type": "execute_result"
    }
   ],
   "source": [
    "OWN_FICO=loan.FICO[loan.Home_Ownership=='OWN']\n",
    "OWN_FICO"
   ]
  },
  {
   "cell_type": "code",
   "execution_count": 64,
   "id": "75b56862",
   "metadata": {},
   "outputs": [
    {
     "data": {
      "text/plain": [
       "294     655\n",
       "978     675\n",
       "1484    680\n",
       "2102    670\n",
       "2418    680\n",
       "Name: FICO, dtype: int32"
      ]
     },
     "execution_count": 64,
     "metadata": {},
     "output_type": "execute_result"
    }
   ],
   "source": [
    "OTHER_FICO=loan.FICO[loan.Home_Ownership=='OTHER']\n",
    "OTHER_FICO"
   ]
  },
  {
   "cell_type": "code",
   "execution_count": 65,
   "id": "e92fca46",
   "metadata": {},
   "outputs": [
    {
     "data": {
      "text/plain": [
       "366    800\n",
       "Name: FICO, dtype: int32"
      ]
     },
     "execution_count": 65,
     "metadata": {},
     "output_type": "execute_result"
    }
   ],
   "source": [
    "NONE_FICO=loan.FICO[loan.Home_Ownership=='NONE']\n",
    "NONE_FICO"
   ]
  },
  {
   "cell_type": "code",
   "execution_count": 66,
   "id": "5e529462",
   "metadata": {},
   "outputs": [
    {
     "data": {
      "text/plain": [
       "F_onewayResult(statistic=19.330308155159962, pvalue=1.1227031714003807e-15)"
      ]
     },
     "execution_count": 66,
     "metadata": {},
     "output_type": "execute_result"
    }
   ],
   "source": [
    "stats.f_oneway(MORTGAGE_FICO, RENT_FICO, OWN_FICO, OTHER_FICO, NONE_FICO )"
   ]
  },
  {
   "cell_type": "code",
   "execution_count": 67,
   "id": "bc1a4611",
   "metadata": {},
   "outputs": [
    {
     "data": {
      "text/plain": [
       "665    18\n",
       "660    17\n",
       "670    13\n",
       "705    12\n",
       "700    12\n",
       "675    11\n",
       "710    10\n",
       "685    10\n",
       "695    10\n",
       "690    10\n",
       "680     9\n",
       "745     7\n",
       "730     7\n",
       "755     6\n",
       "735     6\n",
       "725     5\n",
       "750     4\n",
       "760     4\n",
       "740     4\n",
       "765     3\n",
       "780     3\n",
       "775     3\n",
       "800     3\n",
       "785     2\n",
       "715     2\n",
       "805     2\n",
       "795     1\n",
       "790     1\n",
       "720     1\n",
       "770     1\n",
       "820     1\n",
       "810     1\n",
       "640     1\n",
       "Name: FICO, dtype: int64"
      ]
     },
     "execution_count": 67,
     "metadata": {},
     "output_type": "execute_result"
    }
   ],
   "source": [
    "OWN_FICO.value_counts()"
   ]
  },
  {
   "cell_type": "code",
   "execution_count": 68,
   "id": "d7279bdc",
   "metadata": {},
   "outputs": [
    {
     "data": {
      "text/plain": [
       "680    91\n",
       "670    91\n",
       "695    75\n",
       "665    75\n",
       "675    75\n",
       "690    75\n",
       "660    67\n",
       "685    65\n",
       "720    64\n",
       "700    59\n",
       "705    56\n",
       "710    47\n",
       "715    45\n",
       "725    41\n",
       "730    41\n",
       "735    29\n",
       "750    25\n",
       "740    23\n",
       "745    21\n",
       "760    14\n",
       "755    12\n",
       "765    11\n",
       "775     6\n",
       "795     5\n",
       "785     5\n",
       "780     4\n",
       "770     4\n",
       "640     4\n",
       "790     4\n",
       "805     3\n",
       "655     3\n",
       "810     2\n",
       "645     2\n",
       "800     2\n",
       "Name: FICO, dtype: int64"
      ]
     },
     "execution_count": 68,
     "metadata": {},
     "output_type": "execute_result"
    }
   ],
   "source": [
    "RENT_FICO.value_counts()"
   ]
  },
  {
   "cell_type": "code",
   "execution_count": 89,
   "id": "abaad016",
   "metadata": {},
   "outputs": [
    {
     "data": {
      "text/plain": [
       "700.0305410122164"
      ]
     },
     "execution_count": 89,
     "metadata": {},
     "output_type": "execute_result"
    }
   ],
   "source": [
    "RENT_FICO.mean()"
   ]
  },
  {
   "cell_type": "code",
   "execution_count": 95,
   "id": "52c79351",
   "metadata": {},
   "outputs": [
    {
     "data": {
      "text/plain": [
       "30.988431861368856"
      ]
     },
     "execution_count": 95,
     "metadata": {},
     "output_type": "execute_result"
    }
   ],
   "source": [
    "RENT_FICO.std()"
   ]
  },
  {
   "cell_type": "code",
   "execution_count": 90,
   "id": "c66459e3",
   "metadata": {},
   "outputs": [
    {
     "data": {
      "text/plain": [
       "706.55"
      ]
     },
     "execution_count": 90,
     "metadata": {},
     "output_type": "execute_result"
    }
   ],
   "source": [
    "OWN_FICO.mean()"
   ]
  },
  {
   "cell_type": "code",
   "execution_count": 96,
   "id": "dd9d3d4c",
   "metadata": {},
   "outputs": [
    {
     "data": {
      "text/plain": [
       "39.834424899013875"
      ]
     },
     "execution_count": 96,
     "metadata": {},
     "output_type": "execute_result"
    }
   ],
   "source": [
    "OWN_FICO.std()"
   ]
  },
  {
   "cell_type": "code",
   "execution_count": 91,
   "id": "cf519016",
   "metadata": {
    "scrolled": true
   },
   "outputs": [
    {
     "data": {
      "text/plain": [
       "711.6594076655052"
      ]
     },
     "execution_count": 91,
     "metadata": {},
     "output_type": "execute_result"
    }
   ],
   "source": [
    "MORTGAGE_FICO.mean()"
   ]
  },
  {
   "cell_type": "code",
   "execution_count": 97,
   "id": "093ce8e0",
   "metadata": {},
   "outputs": [
    {
     "data": {
      "text/plain": [
       "36.88874184593145"
      ]
     },
     "execution_count": 97,
     "metadata": {},
     "output_type": "execute_result"
    }
   ],
   "source": [
    "MORTGAGE_FICO.std()"
   ]
  },
  {
   "cell_type": "code",
   "execution_count": 93,
   "id": "b0ef06ef",
   "metadata": {
    "scrolled": true
   },
   "outputs": [
    {
     "data": {
      "text/plain": [
       "672.0"
      ]
     },
     "execution_count": 93,
     "metadata": {},
     "output_type": "execute_result"
    }
   ],
   "source": [
    "OTHER_FICO.mean()"
   ]
  },
  {
   "cell_type": "code",
   "execution_count": 94,
   "id": "28676ad5",
   "metadata": {},
   "outputs": [
    {
     "data": {
      "text/plain": [
       "800.0"
      ]
     },
     "execution_count": 94,
     "metadata": {},
     "output_type": "execute_result"
    }
   ],
   "source": [
    "NONE_FICO.mean()"
   ]
  },
  {
   "cell_type": "code",
   "execution_count": 71,
   "id": "9190a534",
   "metadata": {},
   "outputs": [],
   "source": [
    "#Conclusion: p<0.05, we can reject null hypothesis\n",
    "#Business Conclusion:wityh 95% confidence , we can say Home_ownership is affecting FICO Scores but the hypothesis people with owning home have higher FICO scores is not proved "
   ]
  },
  {
   "cell_type": "code",
   "execution_count": 72,
   "id": "19636bb0",
   "metadata": {},
   "outputs": [
    {
     "data": {
      "text/html": [
       "<div>\n",
       "<style scoped>\n",
       "    .dataframe tbody tr th:only-of-type {\n",
       "        vertical-align: middle;\n",
       "    }\n",
       "\n",
       "    .dataframe tbody tr th {\n",
       "        vertical-align: top;\n",
       "    }\n",
       "\n",
       "    .dataframe thead th {\n",
       "        text-align: right;\n",
       "    }\n",
       "</style>\n",
       "<table border=\"1\" class=\"dataframe\">\n",
       "  <thead>\n",
       "    <tr style=\"text-align: right;\">\n",
       "      <th></th>\n",
       "      <th>Order_Number</th>\n",
       "      <th>Barry_Price</th>\n",
       "      <th>Mary_Price</th>\n",
       "    </tr>\n",
       "  </thead>\n",
       "  <tbody>\n",
       "    <tr>\n",
       "      <th>0</th>\n",
       "      <td>1</td>\n",
       "      <td>126</td>\n",
       "      <td>114</td>\n",
       "    </tr>\n",
       "    <tr>\n",
       "      <th>1</th>\n",
       "      <td>2</td>\n",
       "      <td>110</td>\n",
       "      <td>118</td>\n",
       "    </tr>\n",
       "    <tr>\n",
       "      <th>2</th>\n",
       "      <td>3</td>\n",
       "      <td>138</td>\n",
       "      <td>114</td>\n",
       "    </tr>\n",
       "    <tr>\n",
       "      <th>3</th>\n",
       "      <td>4</td>\n",
       "      <td>142</td>\n",
       "      <td>111</td>\n",
       "    </tr>\n",
       "    <tr>\n",
       "      <th>4</th>\n",
       "      <td>5</td>\n",
       "      <td>146</td>\n",
       "      <td>129</td>\n",
       "    </tr>\n",
       "    <tr>\n",
       "      <th>5</th>\n",
       "      <td>6</td>\n",
       "      <td>136</td>\n",
       "      <td>119</td>\n",
       "    </tr>\n",
       "    <tr>\n",
       "      <th>6</th>\n",
       "      <td>7</td>\n",
       "      <td>94</td>\n",
       "      <td>97</td>\n",
       "    </tr>\n",
       "    <tr>\n",
       "      <th>7</th>\n",
       "      <td>8</td>\n",
       "      <td>103</td>\n",
       "      <td>104</td>\n",
       "    </tr>\n",
       "    <tr>\n",
       "      <th>8</th>\n",
       "      <td>9</td>\n",
       "      <td>140</td>\n",
       "      <td>127</td>\n",
       "    </tr>\n",
       "    <tr>\n",
       "      <th>9</th>\n",
       "      <td>10</td>\n",
       "      <td>152</td>\n",
       "      <td>133</td>\n",
       "    </tr>\n",
       "    <tr>\n",
       "      <th>10</th>\n",
       "      <td>11</td>\n",
       "      <td>108</td>\n",
       "      <td>103</td>\n",
       "    </tr>\n",
       "    <tr>\n",
       "      <th>11</th>\n",
       "      <td>12</td>\n",
       "      <td>97</td>\n",
       "      <td>108</td>\n",
       "    </tr>\n",
       "  </tbody>\n",
       "</table>\n",
       "</div>"
      ],
      "text/plain": [
       "    Order_Number  Barry_Price  Mary_Price\n",
       "0              1          126         114\n",
       "1              2          110         118\n",
       "2              3          138         114\n",
       "3              4          142         111\n",
       "4              5          146         129\n",
       "5              6          136         119\n",
       "6              7           94          97\n",
       "7              8          103         104\n",
       "8              9          140         127\n",
       "9             10          152         133\n",
       "10            11          108         103\n",
       "11            12           97         108"
      ]
     },
     "execution_count": 72,
     "metadata": {},
     "output_type": "execute_result"
    }
   ],
   "source": [
    "#Business Problem 2\n",
    "price=pd.read_csv(r'C:\\Users\\Chinthana\\Desktop\\Analytix Labs\\Case Studies\\Python\\Basic Statistics - Hypothesis Testing\\Price_Quotes.csv')\n",
    "price"
   ]
  },
  {
   "cell_type": "code",
   "execution_count": 73,
   "id": "c734ce12",
   "metadata": {},
   "outputs": [],
   "source": [
    "##Question-2: price quotes provided by Barry and Mary is same or not\n",
    "\n",
    "#Type of samples: independt samples\n",
    "#Type of Test: indpendent t-test\n",
    "\n",
    "#H0: Avg_Barry_price = Avg_Marry_price\n",
    "#Ha: Avg_Barry_price = Avg_Marry_price\n",
    "\n",
    "# Function is scipy.stats = stats.ttest_ind\n",
    "\n",
    "# confidence levels = 95% confidence levels\n",
    "\n",
    "#p-value<0.05 to reject null hypothesis"
   ]
  },
  {
   "cell_type": "code",
   "execution_count": 74,
   "id": "b55c9d2a",
   "metadata": {},
   "outputs": [
    {
     "data": {
      "text/plain": [
       "Ttest_indResult(statistic=1.4147436739281787, pvalue=0.17114226132118285)"
      ]
     },
     "execution_count": 74,
     "metadata": {},
     "output_type": "execute_result"
    }
   ],
   "source": [
    "stats.ttest_ind(price['Barry_Price'], price['Mary_Price'])"
   ]
  },
  {
   "cell_type": "code",
   "execution_count": 75,
   "id": "9b308178",
   "metadata": {},
   "outputs": [],
   "source": [
    "#Conclusion: p>0.05, we can't reject null hypothesis\n",
    "#Business Conclusionn: with 95% confidence, we can conclude that there is no difference in the avg price quotes provided by Mary and Barry"
   ]
  },
  {
   "cell_type": "code",
   "execution_count": 77,
   "id": "8ff90d66",
   "metadata": {
    "scrolled": false
   },
   "outputs": [
    {
     "data": {
      "text/html": [
       "<div>\n",
       "<style scoped>\n",
       "    .dataframe tbody tr th:only-of-type {\n",
       "        vertical-align: middle;\n",
       "    }\n",
       "\n",
       "    .dataframe tbody tr th {\n",
       "        vertical-align: top;\n",
       "    }\n",
       "\n",
       "    .dataframe thead th {\n",
       "        text-align: right;\n",
       "    }\n",
       "</style>\n",
       "<table border=\"1\" class=\"dataframe\">\n",
       "  <thead>\n",
       "    <tr style=\"text-align: right;\">\n",
       "      <th></th>\n",
       "      <th>Month</th>\n",
       "      <th>Reengineer</th>\n",
       "      <th>Employee_Turnover</th>\n",
       "      <th>VAR4</th>\n",
       "      <th>VAR5</th>\n",
       "    </tr>\n",
       "  </thead>\n",
       "  <tbody>\n",
       "    <tr>\n",
       "      <th>0</th>\n",
       "      <td>1</td>\n",
       "      <td>Prior</td>\n",
       "      <td>0.0000</td>\n",
       "      <td>24.390244</td>\n",
       "      <td>42.682927</td>\n",
       "    </tr>\n",
       "    <tr>\n",
       "      <th>1</th>\n",
       "      <td>2</td>\n",
       "      <td>Prior</td>\n",
       "      <td>6.0606</td>\n",
       "      <td>19.354839</td>\n",
       "      <td>25.806452</td>\n",
       "    </tr>\n",
       "    <tr>\n",
       "      <th>2</th>\n",
       "      <td>3</td>\n",
       "      <td>Prior</td>\n",
       "      <td>12.1212</td>\n",
       "      <td>35.087719</td>\n",
       "      <td>146.198830</td>\n",
       "    </tr>\n",
       "    <tr>\n",
       "      <th>3</th>\n",
       "      <td>4</td>\n",
       "      <td>Prior</td>\n",
       "      <td>3.3333</td>\n",
       "      <td>18.404908</td>\n",
       "      <td>110.429448</td>\n",
       "    </tr>\n",
       "    <tr>\n",
       "      <th>4</th>\n",
       "      <td>5</td>\n",
       "      <td>Prior</td>\n",
       "      <td>12.9032</td>\n",
       "      <td>17.964072</td>\n",
       "      <td>23.952096</td>\n",
       "    </tr>\n",
       "    <tr>\n",
       "      <th>5</th>\n",
       "      <td>6</td>\n",
       "      <td>Prior</td>\n",
       "      <td>9.6774</td>\n",
       "      <td>41.176471</td>\n",
       "      <td>47.058824</td>\n",
       "    </tr>\n",
       "    <tr>\n",
       "      <th>6</th>\n",
       "      <td>7</td>\n",
       "      <td>Prior</td>\n",
       "      <td>11.7647</td>\n",
       "      <td>13.422819</td>\n",
       "      <td>0.000000</td>\n",
       "    </tr>\n",
       "    <tr>\n",
       "      <th>7</th>\n",
       "      <td>8</td>\n",
       "      <td>Prior</td>\n",
       "      <td>11.4286</td>\n",
       "      <td>31.250000</td>\n",
       "      <td>25.000000</td>\n",
       "    </tr>\n",
       "    <tr>\n",
       "      <th>8</th>\n",
       "      <td>9</td>\n",
       "      <td>Prior</td>\n",
       "      <td>23.0769</td>\n",
       "      <td>17.241379</td>\n",
       "      <td>132.183908</td>\n",
       "    </tr>\n",
       "    <tr>\n",
       "      <th>9</th>\n",
       "      <td>10</td>\n",
       "      <td>Prior</td>\n",
       "      <td>15.0000</td>\n",
       "      <td>16.574586</td>\n",
       "      <td>16.574586</td>\n",
       "    </tr>\n",
       "    <tr>\n",
       "      <th>10</th>\n",
       "      <td>11</td>\n",
       "      <td>Prior</td>\n",
       "      <td>10.0000</td>\n",
       "      <td>5.917160</td>\n",
       "      <td>88.757396</td>\n",
       "    </tr>\n",
       "    <tr>\n",
       "      <th>11</th>\n",
       "      <td>12</td>\n",
       "      <td>Prior</td>\n",
       "      <td>26.0870</td>\n",
       "      <td>21.164021</td>\n",
       "      <td>31.746032</td>\n",
       "    </tr>\n",
       "    <tr>\n",
       "      <th>12</th>\n",
       "      <td>13</td>\n",
       "      <td>Prior</td>\n",
       "      <td>11.1111</td>\n",
       "      <td>5.076142</td>\n",
       "      <td>10.152284</td>\n",
       "    </tr>\n",
       "    <tr>\n",
       "      <th>13</th>\n",
       "      <td>14</td>\n",
       "      <td>Post</td>\n",
       "      <td>26.6667</td>\n",
       "      <td>9.708738</td>\n",
       "      <td>29.126214</td>\n",
       "    </tr>\n",
       "    <tr>\n",
       "      <th>14</th>\n",
       "      <td>15</td>\n",
       "      <td>Post</td>\n",
       "      <td>17.9487</td>\n",
       "      <td>4.201681</td>\n",
       "      <td>21.008403</td>\n",
       "    </tr>\n",
       "    <tr>\n",
       "      <th>15</th>\n",
       "      <td>16</td>\n",
       "      <td>Post</td>\n",
       "      <td>12.8205</td>\n",
       "      <td>13.043478</td>\n",
       "      <td>34.782609</td>\n",
       "    </tr>\n",
       "    <tr>\n",
       "      <th>16</th>\n",
       "      <td>17</td>\n",
       "      <td>Post</td>\n",
       "      <td>15.7895</td>\n",
       "      <td>9.950249</td>\n",
       "      <td>19.900498</td>\n",
       "    </tr>\n",
       "    <tr>\n",
       "      <th>17</th>\n",
       "      <td>18</td>\n",
       "      <td>Post</td>\n",
       "      <td>0.0000</td>\n",
       "      <td>9.950249</td>\n",
       "      <td>9.950249</td>\n",
       "    </tr>\n",
       "    <tr>\n",
       "      <th>18</th>\n",
       "      <td>19</td>\n",
       "      <td>Post</td>\n",
       "      <td>30.7692</td>\n",
       "      <td>8.510638</td>\n",
       "      <td>25.531915</td>\n",
       "    </tr>\n",
       "    <tr>\n",
       "      <th>19</th>\n",
       "      <td>20</td>\n",
       "      <td>Post</td>\n",
       "      <td>26.8293</td>\n",
       "      <td>9.259259</td>\n",
       "      <td>23.148148</td>\n",
       "    </tr>\n",
       "  </tbody>\n",
       "</table>\n",
       "</div>"
      ],
      "text/plain": [
       "    Month Reengineer  Employee_Turnover       VAR4        VAR5\n",
       "0       1      Prior             0.0000  24.390244   42.682927\n",
       "1       2      Prior             6.0606  19.354839   25.806452\n",
       "2       3      Prior            12.1212  35.087719  146.198830\n",
       "3       4      Prior             3.3333  18.404908  110.429448\n",
       "4       5      Prior            12.9032  17.964072   23.952096\n",
       "5       6      Prior             9.6774  41.176471   47.058824\n",
       "6       7      Prior            11.7647  13.422819    0.000000\n",
       "7       8      Prior            11.4286  31.250000   25.000000\n",
       "8       9      Prior            23.0769  17.241379  132.183908\n",
       "9      10      Prior            15.0000  16.574586   16.574586\n",
       "10     11      Prior            10.0000   5.917160   88.757396\n",
       "11     12      Prior            26.0870  21.164021   31.746032\n",
       "12     13      Prior            11.1111   5.076142   10.152284\n",
       "13     14       Post            26.6667   9.708738   29.126214\n",
       "14     15       Post            17.9487   4.201681   21.008403\n",
       "15     16       Post            12.8205  13.043478   34.782609\n",
       "16     17       Post            15.7895   9.950249   19.900498\n",
       "17     18       Post             0.0000   9.950249    9.950249\n",
       "18     19       Post            30.7692   8.510638   25.531915\n",
       "19     20       Post            26.8293   9.259259   23.148148"
      ]
     },
     "execution_count": 77,
     "metadata": {},
     "output_type": "execute_result"
    }
   ],
   "source": [
    "#Businnes Problem - 3\n",
    "treatment=pd.read_csv('Treatment_Facility.csv')\n",
    "treatment"
   ]
  },
  {
   "cell_type": "code",
   "execution_count": null,
   "id": "d70210ca",
   "metadata": {},
   "outputs": [],
   "source": [
    "#Question 3: to test if the average of prior VAR5 and average of post VAR5 is same or not(to test if CI% improved or not)\n",
    "\n",
    "#Type of samples: independent samples\n",
    "#Type of Test: indpendent t-test\n",
    "\n",
    "#H0: Avg_priorCI(%) = Avg_postCI(%)\n",
    "#Ha: Avg_priorCI(%) <> Avg_postCI(%)\n",
    "\n",
    "# Function is scipy.stats = stats.ttest_ind\n",
    "\n",
    "# confidence levels = 95% confidence levels\n",
    "\n",
    "#p-value<0.05 to reject null hypothesis"
   ]
  },
  {
   "cell_type": "code",
   "execution_count": 79,
   "id": "530bf0e1",
   "metadata": {},
   "outputs": [
    {
     "data": {
      "text/plain": [
       "0      42.682927\n",
       "1      25.806452\n",
       "2     146.198830\n",
       "3     110.429448\n",
       "4      23.952096\n",
       "5      47.058824\n",
       "6       0.000000\n",
       "7      25.000000\n",
       "8     132.183908\n",
       "9      16.574586\n",
       "10     88.757396\n",
       "11     31.746032\n",
       "12     10.152284\n",
       "Name: VAR5, dtype: float64"
      ]
     },
     "execution_count": 79,
     "metadata": {},
     "output_type": "execute_result"
    }
   ],
   "source": [
    "treat_prior=treatment.VAR5[treatment.Reengineer=='Prior']\n",
    "treat_prior"
   ]
  },
  {
   "cell_type": "code",
   "execution_count": 80,
   "id": "7949ee4c",
   "metadata": {},
   "outputs": [
    {
     "data": {
      "text/plain": [
       "13    29.126214\n",
       "14    21.008403\n",
       "15    34.782609\n",
       "16    19.900498\n",
       "17     9.950249\n",
       "18    25.531915\n",
       "19    23.148148\n",
       "Name: VAR5, dtype: float64"
      ]
     },
     "execution_count": 80,
     "metadata": {},
     "output_type": "execute_result"
    }
   ],
   "source": [
    "treat_post=treatment.VAR5[treatment.Reengineer=='Post']\n",
    "treat_post"
   ]
  },
  {
   "cell_type": "code",
   "execution_count": 81,
   "id": "a83867ca",
   "metadata": {},
   "outputs": [
    {
     "data": {
      "text/plain": [
       "Ttest_indResult(statistic=1.6279144253528646, pvalue=0.12091989189884149)"
      ]
     },
     "execution_count": 81,
     "metadata": {},
     "output_type": "execute_result"
    }
   ],
   "source": [
    "stats.ttest_ind(treat_prior, treat_post)"
   ]
  },
  {
   "cell_type": "code",
   "execution_count": null,
   "id": "9dea6dca",
   "metadata": {},
   "outputs": [],
   "source": [
    "#conclusion: p>0.05, so we can't reject null hypothesis with 95% confidence level\n",
    "#Businnes Conclusion: with 95% confidence , we can say critical incidence rate has not improved "
   ]
  },
  {
   "cell_type": "code",
   "execution_count": 88,
   "id": "449fbf7f",
   "metadata": {},
   "outputs": [],
   "source": [
    "#Question-4: number of days for high prioirty , medium priority and low priority jobs is same or different\n",
    "\n",
    "#Type of samples: multiple independentt samples\n",
    "#Type of Test: f-test\n",
    "\n",
    "#H0: Avg_high= Avg_medium=Avg_low\n",
    "#Ha: one of the prioirty average is different from others (Avg_high< Avg_medium< Avg_low)\n",
    "\n",
    "# Function is scipy.stats = stats.f_1way\n",
    "\n",
    "# confidence levels = 95% confidence levels\n",
    "\n",
    "#p-value<0.05 to reject null hypothesis"
   ]
  },
  {
   "cell_type": "code",
   "execution_count": 83,
   "id": "fc1eebfb",
   "metadata": {},
   "outputs": [
    {
     "data": {
      "text/html": [
       "<div>\n",
       "<style scoped>\n",
       "    .dataframe tbody tr th:only-of-type {\n",
       "        vertical-align: middle;\n",
       "    }\n",
       "\n",
       "    .dataframe tbody tr th {\n",
       "        vertical-align: top;\n",
       "    }\n",
       "\n",
       "    .dataframe thead th {\n",
       "        text-align: right;\n",
       "    }\n",
       "</style>\n",
       "<table border=\"1\" class=\"dataframe\">\n",
       "  <thead>\n",
       "    <tr style=\"text-align: right;\">\n",
       "      <th></th>\n",
       "      <th>Days</th>\n",
       "      <th>Priority</th>\n",
       "    </tr>\n",
       "  </thead>\n",
       "  <tbody>\n",
       "    <tr>\n",
       "      <th>0</th>\n",
       "      <td>3.3</td>\n",
       "      <td>High</td>\n",
       "    </tr>\n",
       "    <tr>\n",
       "      <th>1</th>\n",
       "      <td>7.9</td>\n",
       "      <td>Medium</td>\n",
       "    </tr>\n",
       "    <tr>\n",
       "      <th>2</th>\n",
       "      <td>0.3</td>\n",
       "      <td>High</td>\n",
       "    </tr>\n",
       "    <tr>\n",
       "      <th>3</th>\n",
       "      <td>0.7</td>\n",
       "      <td>Medium</td>\n",
       "    </tr>\n",
       "    <tr>\n",
       "      <th>4</th>\n",
       "      <td>8.6</td>\n",
       "      <td>Medium</td>\n",
       "    </tr>\n",
       "    <tr>\n",
       "      <th>...</th>\n",
       "      <td>...</td>\n",
       "      <td>...</td>\n",
       "    </tr>\n",
       "    <tr>\n",
       "      <th>637</th>\n",
       "      <td>2.5</td>\n",
       "      <td>Low</td>\n",
       "    </tr>\n",
       "    <tr>\n",
       "      <th>638</th>\n",
       "      <td>0.3</td>\n",
       "      <td>High</td>\n",
       "    </tr>\n",
       "    <tr>\n",
       "      <th>639</th>\n",
       "      <td>0.3</td>\n",
       "      <td>Medium</td>\n",
       "    </tr>\n",
       "    <tr>\n",
       "      <th>640</th>\n",
       "      <td>1.3</td>\n",
       "      <td>Medium</td>\n",
       "    </tr>\n",
       "    <tr>\n",
       "      <th>641</th>\n",
       "      <td>0.5</td>\n",
       "      <td>High</td>\n",
       "    </tr>\n",
       "  </tbody>\n",
       "</table>\n",
       "<p>642 rows × 2 columns</p>\n",
       "</div>"
      ],
      "text/plain": [
       "     Days Priority\n",
       "0     3.3     High\n",
       "1     7.9   Medium\n",
       "2     0.3     High\n",
       "3     0.7   Medium\n",
       "4     8.6   Medium\n",
       "..    ...      ...\n",
       "637   2.5      Low\n",
       "638   0.3     High\n",
       "639   0.3   Medium\n",
       "640   1.3   Medium\n",
       "641   0.5     High\n",
       "\n",
       "[642 rows x 2 columns]"
      ]
     },
     "execution_count": 83,
     "metadata": {},
     "output_type": "execute_result"
    }
   ],
   "source": [
    "priority=pd.read_csv('Priority_Assessment.csv')\n",
    "priority"
   ]
  },
  {
   "cell_type": "code",
   "execution_count": 84,
   "id": "8fdccd98",
   "metadata": {},
   "outputs": [
    {
     "data": {
      "text/plain": [
       "0      3.3\n",
       "2      0.3\n",
       "5      0.3\n",
       "6      0.3\n",
       "7      0.3\n",
       "      ... \n",
       "631    0.3\n",
       "632    1.0\n",
       "635    0.1\n",
       "638    0.3\n",
       "641    0.5\n",
       "Name: Days, Length: 326, dtype: float64"
      ]
     },
     "execution_count": 84,
     "metadata": {},
     "output_type": "execute_result"
    }
   ],
   "source": [
    "high=priority.Days[priority.Priority=='High']\n",
    "high"
   ]
  },
  {
   "cell_type": "code",
   "execution_count": 85,
   "id": "8f52905f",
   "metadata": {},
   "outputs": [
    {
     "data": {
      "text/plain": [
       "1       7.9\n",
       "3       0.7\n",
       "4       8.6\n",
       "9      15.9\n",
       "11      0.3\n",
       "       ... \n",
       "633     2.0\n",
       "634     2.5\n",
       "636     0.1\n",
       "639     0.3\n",
       "640     1.3\n",
       "Name: Days, Length: 249, dtype: float64"
      ]
     },
     "execution_count": 85,
     "metadata": {},
     "output_type": "execute_result"
    }
   ],
   "source": [
    "medium=priority.Days[priority.Priority=='Medium']\n",
    "medium"
   ]
  },
  {
   "cell_type": "code",
   "execution_count": 86,
   "id": "f7b147da",
   "metadata": {},
   "outputs": [
    {
     "data": {
      "text/plain": [
       "14     23.2\n",
       "15      5.3\n",
       "20      4.6\n",
       "23      1.8\n",
       "26     17.0\n",
       "       ... \n",
       "609     0.5\n",
       "613     7.9\n",
       "620     0.3\n",
       "622     0.1\n",
       "637     2.5\n",
       "Name: Days, Length: 67, dtype: float64"
      ]
     },
     "execution_count": 86,
     "metadata": {},
     "output_type": "execute_result"
    }
   ],
   "source": [
    "low=priority.Days[priority.Priority=='Low']\n",
    "low"
   ]
  },
  {
   "cell_type": "code",
   "execution_count": 87,
   "id": "6cf57d39",
   "metadata": {},
   "outputs": [
    {
     "data": {
      "text/plain": [
       "F_onewayResult(statistic=1.812311010076072, pvalue=0.16411459461716182)"
      ]
     },
     "execution_count": 87,
     "metadata": {},
     "output_type": "execute_result"
    }
   ],
   "source": [
    "stats.f_oneway(high, medium, low)"
   ]
  },
  {
   "cell_type": "code",
   "execution_count": 713,
   "id": "39eec332",
   "metadata": {},
   "outputs": [],
   "source": [
    "#Conclusion: p>0.05, we can't reject null hypothesis\n",
    "#Business Conclusion: with 95% confidence level, we can conclude there is no relationship between priority and days i.e average number of days for high, medium, low priority jobs are same "
   ]
  },
  {
   "cell_type": "code",
   "execution_count": 714,
   "id": "f84abd61",
   "metadata": {
    "scrolled": true
   },
   "outputs": [
    {
     "data": {
      "text/html": [
       "<div>\n",
       "<style scoped>\n",
       "    .dataframe tbody tr th:only-of-type {\n",
       "        vertical-align: middle;\n",
       "    }\n",
       "\n",
       "    .dataframe tbody tr th {\n",
       "        vertical-align: top;\n",
       "    }\n",
       "\n",
       "    .dataframe thead th {\n",
       "        text-align: right;\n",
       "    }\n",
       "</style>\n",
       "<table border=\"1\" class=\"dataframe\">\n",
       "  <thead>\n",
       "    <tr style=\"text-align: right;\">\n",
       "      <th></th>\n",
       "      <th>_rowstate_</th>\n",
       "      <th>Movie</th>\n",
       "      <th>Gender</th>\n",
       "      <th>Marital_Status</th>\n",
       "      <th>Sinage</th>\n",
       "      <th>Parking</th>\n",
       "      <th>Clean</th>\n",
       "      <th>Overall</th>\n",
       "      <th>Age</th>\n",
       "      <th>Income</th>\n",
       "      <th>Hear_About</th>\n",
       "    </tr>\n",
       "  </thead>\n",
       "  <tbody>\n",
       "    <tr>\n",
       "      <th>0</th>\n",
       "      <td>0</td>\n",
       "      <td>Ferris Buellers Day Off</td>\n",
       "      <td>Female</td>\n",
       "      <td>Married</td>\n",
       "      <td>2.0</td>\n",
       "      <td>2.0</td>\n",
       "      <td>2.0</td>\n",
       "      <td>2.0</td>\n",
       "      <td>3.0</td>\n",
       "      <td>1.0</td>\n",
       "      <td>5</td>\n",
       "    </tr>\n",
       "    <tr>\n",
       "      <th>1</th>\n",
       "      <td>0</td>\n",
       "      <td>Ferris Buellers Day Off</td>\n",
       "      <td>Female</td>\n",
       "      <td>Single</td>\n",
       "      <td>1.0</td>\n",
       "      <td>1.0</td>\n",
       "      <td>1.0</td>\n",
       "      <td>1.0</td>\n",
       "      <td>2.0</td>\n",
       "      <td>1.0</td>\n",
       "      <td>5</td>\n",
       "    </tr>\n",
       "    <tr>\n",
       "      <th>2</th>\n",
       "      <td>0</td>\n",
       "      <td>Ferris Buellers Day Off</td>\n",
       "      <td>Male</td>\n",
       "      <td>Married</td>\n",
       "      <td>2.0</td>\n",
       "      <td>4.0</td>\n",
       "      <td>3.0</td>\n",
       "      <td>2.0</td>\n",
       "      <td>4.0</td>\n",
       "      <td>1.0</td>\n",
       "      <td>5</td>\n",
       "    </tr>\n",
       "    <tr>\n",
       "      <th>3</th>\n",
       "      <td>0</td>\n",
       "      <td>Ferris Buellers Day Off</td>\n",
       "      <td>Female</td>\n",
       "      <td>Married</td>\n",
       "      <td>1.0</td>\n",
       "      <td>3.0</td>\n",
       "      <td>2.0</td>\n",
       "      <td>2.0</td>\n",
       "      <td>4.0</td>\n",
       "      <td>1.0</td>\n",
       "      <td>5</td>\n",
       "    </tr>\n",
       "    <tr>\n",
       "      <th>4</th>\n",
       "      <td>0</td>\n",
       "      <td>Ferris Buellers Day Off</td>\n",
       "      <td>Female</td>\n",
       "      <td>Married</td>\n",
       "      <td>1.0</td>\n",
       "      <td>1.0</td>\n",
       "      <td>1.0</td>\n",
       "      <td>1.0</td>\n",
       "      <td>3.0</td>\n",
       "      <td>3.0</td>\n",
       "      <td>1</td>\n",
       "    </tr>\n",
       "    <tr>\n",
       "      <th>...</th>\n",
       "      <td>...</td>\n",
       "      <td>...</td>\n",
       "      <td>...</td>\n",
       "      <td>...</td>\n",
       "      <td>...</td>\n",
       "      <td>...</td>\n",
       "      <td>...</td>\n",
       "      <td>...</td>\n",
       "      <td>...</td>\n",
       "      <td>...</td>\n",
       "      <td>...</td>\n",
       "    </tr>\n",
       "    <tr>\n",
       "      <th>325</th>\n",
       "      <td>0</td>\n",
       "      <td>Old School</td>\n",
       "      <td>2</td>\n",
       "      <td>2</td>\n",
       "      <td>1.0</td>\n",
       "      <td>2.0</td>\n",
       "      <td>1.0</td>\n",
       "      <td>1.0</td>\n",
       "      <td>2.0</td>\n",
       "      <td>1.0</td>\n",
       "      <td>1</td>\n",
       "    </tr>\n",
       "    <tr>\n",
       "      <th>326</th>\n",
       "      <td>0</td>\n",
       "      <td>Old School</td>\n",
       "      <td>1</td>\n",
       "      <td>1</td>\n",
       "      <td>2.0</td>\n",
       "      <td>2.0</td>\n",
       "      <td>2.0</td>\n",
       "      <td>2.0</td>\n",
       "      <td>3.0</td>\n",
       "      <td>3.0</td>\n",
       "      <td>5</td>\n",
       "    </tr>\n",
       "    <tr>\n",
       "      <th>327</th>\n",
       "      <td>0</td>\n",
       "      <td>Old School</td>\n",
       "      <td>2</td>\n",
       "      <td>1</td>\n",
       "      <td>2.0</td>\n",
       "      <td>1.0</td>\n",
       "      <td>1.0</td>\n",
       "      <td>2.0</td>\n",
       "      <td>2.0</td>\n",
       "      <td>2.0</td>\n",
       "      <td>5</td>\n",
       "    </tr>\n",
       "    <tr>\n",
       "      <th>328</th>\n",
       "      <td>0</td>\n",
       "      <td>Old School</td>\n",
       "      <td>1</td>\n",
       "      <td>1</td>\n",
       "      <td>1.0</td>\n",
       "      <td>1.0</td>\n",
       "      <td>1.0</td>\n",
       "      <td>1.0</td>\n",
       "      <td>2.0</td>\n",
       "      <td>1.0</td>\n",
       "      <td>3</td>\n",
       "    </tr>\n",
       "    <tr>\n",
       "      <th>329</th>\n",
       "      <td>0</td>\n",
       "      <td>Old School</td>\n",
       "      <td>2</td>\n",
       "      <td>2</td>\n",
       "      <td>2.0</td>\n",
       "      <td>2.0</td>\n",
       "      <td>3.0</td>\n",
       "      <td>1.0</td>\n",
       "      <td>2.0</td>\n",
       "      <td>1.0</td>\n",
       "      <td>5</td>\n",
       "    </tr>\n",
       "  </tbody>\n",
       "</table>\n",
       "<p>330 rows × 11 columns</p>\n",
       "</div>"
      ],
      "text/plain": [
       "     _rowstate_                    Movie  Gender Marital_Status  Sinage  \\\n",
       "0             0  Ferris Buellers Day Off  Female        Married     2.0   \n",
       "1             0  Ferris Buellers Day Off  Female         Single     1.0   \n",
       "2             0  Ferris Buellers Day Off    Male        Married     2.0   \n",
       "3             0  Ferris Buellers Day Off  Female        Married     1.0   \n",
       "4             0  Ferris Buellers Day Off  Female        Married     1.0   \n",
       "..          ...                      ...     ...            ...     ...   \n",
       "325           0               Old School       2              2     1.0   \n",
       "326           0               Old School       1              1     2.0   \n",
       "327           0               Old School       2              1     2.0   \n",
       "328           0               Old School       1              1     1.0   \n",
       "329           0               Old School       2              2     2.0   \n",
       "\n",
       "     Parking  Clean  Overall  Age  Income Hear_About  \n",
       "0        2.0    2.0      2.0  3.0     1.0          5  \n",
       "1        1.0    1.0      1.0  2.0     1.0          5  \n",
       "2        4.0    3.0      2.0  4.0     1.0          5  \n",
       "3        3.0    2.0      2.0  4.0     1.0          5  \n",
       "4        1.0    1.0      1.0  3.0     3.0          1  \n",
       "..       ...    ...      ...  ...     ...        ...  \n",
       "325      2.0    1.0      1.0  2.0     1.0          1  \n",
       "326      2.0    2.0      2.0  3.0     3.0          5  \n",
       "327      1.0    1.0      2.0  2.0     2.0          5  \n",
       "328      1.0    1.0      1.0  2.0     1.0          3  \n",
       "329      2.0    3.0      1.0  2.0     1.0          5  \n",
       "\n",
       "[330 rows x 11 columns]"
      ]
     },
     "execution_count": 714,
     "metadata": {},
     "output_type": "execute_result"
    }
   ],
   "source": [
    "#5 Business Problem 5\n",
    "films=pd.read_csv('Films.csv')\n",
    "films"
   ]
  },
  {
   "cell_type": "code",
   "execution_count": 715,
   "id": "4be18fd2",
   "metadata": {},
   "outputs": [
    {
     "data": {
      "text/plain": [
       "_rowstate_          int64\n",
       "Movie              object\n",
       "Gender             object\n",
       "Marital_Status     object\n",
       "Sinage            float64\n",
       "Parking           float64\n",
       "Clean             float64\n",
       "Overall           float64\n",
       "Age               float64\n",
       "Income            float64\n",
       "Hear_About         object\n",
       "dtype: object"
      ]
     },
     "execution_count": 715,
     "metadata": {},
     "output_type": "execute_result"
    }
   ],
   "source": [
    "films.dtypes"
   ]
  },
  {
   "cell_type": "code",
   "execution_count": 716,
   "id": "4f81ed34",
   "metadata": {},
   "outputs": [
    {
     "data": {
      "text/plain": [
       "_rowstate_         0\n",
       "Movie              0\n",
       "Gender             0\n",
       "Marital_Status     2\n",
       "Sinage             2\n",
       "Parking            2\n",
       "Clean              3\n",
       "Overall            2\n",
       "Age                2\n",
       "Income            16\n",
       "Hear_About         7\n",
       "dtype: int64"
      ]
     },
     "execution_count": 716,
     "metadata": {},
     "output_type": "execute_result"
    }
   ],
   "source": [
    "films.isna().sum()"
   ]
  },
  {
   "cell_type": "code",
   "execution_count": 717,
   "id": "f27ffb66",
   "metadata": {},
   "outputs": [
    {
     "data": {
      "text/plain": [
       "0      3.0\n",
       "1      2.0\n",
       "2      4.0\n",
       "3      4.0\n",
       "4      3.0\n",
       "      ... \n",
       "325    2.0\n",
       "326    3.0\n",
       "327    2.0\n",
       "328    2.0\n",
       "329    2.0\n",
       "Name: Age, Length: 330, dtype: float64"
      ]
     },
     "execution_count": 717,
     "metadata": {},
     "output_type": "execute_result"
    }
   ],
   "source": [
    "films['Age']=films.Age.fillna(films.Age.mode()[0])\n",
    "films['Age']"
   ]
  },
  {
   "cell_type": "code",
   "execution_count": 718,
   "id": "fc9f54b0",
   "metadata": {},
   "outputs": [
    {
     "data": {
      "text/plain": [
       "0      1.0\n",
       "1      1.0\n",
       "2      1.0\n",
       "3      1.0\n",
       "4      3.0\n",
       "      ... \n",
       "325    1.0\n",
       "326    3.0\n",
       "327    2.0\n",
       "328    1.0\n",
       "329    1.0\n",
       "Name: Income, Length: 330, dtype: float64"
      ]
     },
     "execution_count": 718,
     "metadata": {},
     "output_type": "execute_result"
    }
   ],
   "source": [
    "films['Income']=films.Income.fillna(films.Income.mode()[0])\n",
    "films['Income']"
   ]
  },
  {
   "cell_type": "code",
   "execution_count": 719,
   "id": "d8d3ff8c",
   "metadata": {},
   "outputs": [
    {
     "data": {
      "text/plain": [
       "_rowstate_        0\n",
       "Movie             0\n",
       "Gender            0\n",
       "Marital_Status    2\n",
       "Sinage            2\n",
       "Parking           2\n",
       "Clean             3\n",
       "Overall           2\n",
       "Age               0\n",
       "Income            0\n",
       "Hear_About        7\n",
       "dtype: int64"
      ]
     },
     "execution_count": 719,
     "metadata": {},
     "output_type": "execute_result"
    }
   ],
   "source": [
    "films.isna().sum()"
   ]
  },
  {
   "cell_type": "code",
   "execution_count": 720,
   "id": "1d3ac781",
   "metadata": {},
   "outputs": [
    {
     "data": {
      "text/html": [
       "<div>\n",
       "<style scoped>\n",
       "    .dataframe tbody tr th:only-of-type {\n",
       "        vertical-align: middle;\n",
       "    }\n",
       "\n",
       "    .dataframe tbody tr th {\n",
       "        vertical-align: top;\n",
       "    }\n",
       "\n",
       "    .dataframe thead th {\n",
       "        text-align: right;\n",
       "    }\n",
       "</style>\n",
       "<table border=\"1\" class=\"dataframe\">\n",
       "  <thead>\n",
       "    <tr style=\"text-align: right;\">\n",
       "      <th></th>\n",
       "      <th>_rowstate_</th>\n",
       "      <th>Movie</th>\n",
       "      <th>Gender</th>\n",
       "      <th>Marital_Status</th>\n",
       "      <th>Sinage</th>\n",
       "      <th>Parking</th>\n",
       "      <th>Clean</th>\n",
       "      <th>Overall</th>\n",
       "      <th>Age</th>\n",
       "      <th>Income</th>\n",
       "      <th>Hear_About</th>\n",
       "    </tr>\n",
       "  </thead>\n",
       "  <tbody>\n",
       "    <tr>\n",
       "      <th>0</th>\n",
       "      <td>0</td>\n",
       "      <td>Ferris Buellers Day Off</td>\n",
       "      <td>Female</td>\n",
       "      <td>Married</td>\n",
       "      <td>2.0</td>\n",
       "      <td>2.0</td>\n",
       "      <td>2.0</td>\n",
       "      <td>2.0</td>\n",
       "      <td>3.0</td>\n",
       "      <td>1.0</td>\n",
       "      <td>5</td>\n",
       "    </tr>\n",
       "    <tr>\n",
       "      <th>1</th>\n",
       "      <td>0</td>\n",
       "      <td>Ferris Buellers Day Off</td>\n",
       "      <td>Female</td>\n",
       "      <td>Single</td>\n",
       "      <td>1.0</td>\n",
       "      <td>1.0</td>\n",
       "      <td>1.0</td>\n",
       "      <td>1.0</td>\n",
       "      <td>2.0</td>\n",
       "      <td>1.0</td>\n",
       "      <td>5</td>\n",
       "    </tr>\n",
       "    <tr>\n",
       "      <th>2</th>\n",
       "      <td>0</td>\n",
       "      <td>Ferris Buellers Day Off</td>\n",
       "      <td>Male</td>\n",
       "      <td>Married</td>\n",
       "      <td>2.0</td>\n",
       "      <td>4.0</td>\n",
       "      <td>3.0</td>\n",
       "      <td>2.0</td>\n",
       "      <td>4.0</td>\n",
       "      <td>1.0</td>\n",
       "      <td>5</td>\n",
       "    </tr>\n",
       "    <tr>\n",
       "      <th>3</th>\n",
       "      <td>0</td>\n",
       "      <td>Ferris Buellers Day Off</td>\n",
       "      <td>Female</td>\n",
       "      <td>Married</td>\n",
       "      <td>1.0</td>\n",
       "      <td>3.0</td>\n",
       "      <td>2.0</td>\n",
       "      <td>2.0</td>\n",
       "      <td>4.0</td>\n",
       "      <td>1.0</td>\n",
       "      <td>5</td>\n",
       "    </tr>\n",
       "    <tr>\n",
       "      <th>4</th>\n",
       "      <td>0</td>\n",
       "      <td>Ferris Buellers Day Off</td>\n",
       "      <td>Female</td>\n",
       "      <td>Married</td>\n",
       "      <td>1.0</td>\n",
       "      <td>1.0</td>\n",
       "      <td>1.0</td>\n",
       "      <td>1.0</td>\n",
       "      <td>3.0</td>\n",
       "      <td>3.0</td>\n",
       "      <td>1</td>\n",
       "    </tr>\n",
       "    <tr>\n",
       "      <th>...</th>\n",
       "      <td>...</td>\n",
       "      <td>...</td>\n",
       "      <td>...</td>\n",
       "      <td>...</td>\n",
       "      <td>...</td>\n",
       "      <td>...</td>\n",
       "      <td>...</td>\n",
       "      <td>...</td>\n",
       "      <td>...</td>\n",
       "      <td>...</td>\n",
       "      <td>...</td>\n",
       "    </tr>\n",
       "    <tr>\n",
       "      <th>325</th>\n",
       "      <td>0</td>\n",
       "      <td>Old School</td>\n",
       "      <td>2</td>\n",
       "      <td>2</td>\n",
       "      <td>1.0</td>\n",
       "      <td>2.0</td>\n",
       "      <td>1.0</td>\n",
       "      <td>1.0</td>\n",
       "      <td>2.0</td>\n",
       "      <td>1.0</td>\n",
       "      <td>1</td>\n",
       "    </tr>\n",
       "    <tr>\n",
       "      <th>326</th>\n",
       "      <td>0</td>\n",
       "      <td>Old School</td>\n",
       "      <td>1</td>\n",
       "      <td>1</td>\n",
       "      <td>2.0</td>\n",
       "      <td>2.0</td>\n",
       "      <td>2.0</td>\n",
       "      <td>2.0</td>\n",
       "      <td>3.0</td>\n",
       "      <td>3.0</td>\n",
       "      <td>5</td>\n",
       "    </tr>\n",
       "    <tr>\n",
       "      <th>327</th>\n",
       "      <td>0</td>\n",
       "      <td>Old School</td>\n",
       "      <td>2</td>\n",
       "      <td>1</td>\n",
       "      <td>2.0</td>\n",
       "      <td>1.0</td>\n",
       "      <td>1.0</td>\n",
       "      <td>2.0</td>\n",
       "      <td>2.0</td>\n",
       "      <td>2.0</td>\n",
       "      <td>5</td>\n",
       "    </tr>\n",
       "    <tr>\n",
       "      <th>328</th>\n",
       "      <td>0</td>\n",
       "      <td>Old School</td>\n",
       "      <td>1</td>\n",
       "      <td>1</td>\n",
       "      <td>1.0</td>\n",
       "      <td>1.0</td>\n",
       "      <td>1.0</td>\n",
       "      <td>1.0</td>\n",
       "      <td>2.0</td>\n",
       "      <td>1.0</td>\n",
       "      <td>3</td>\n",
       "    </tr>\n",
       "    <tr>\n",
       "      <th>329</th>\n",
       "      <td>0</td>\n",
       "      <td>Old School</td>\n",
       "      <td>2</td>\n",
       "      <td>2</td>\n",
       "      <td>2.0</td>\n",
       "      <td>2.0</td>\n",
       "      <td>3.0</td>\n",
       "      <td>1.0</td>\n",
       "      <td>2.0</td>\n",
       "      <td>1.0</td>\n",
       "      <td>5</td>\n",
       "    </tr>\n",
       "  </tbody>\n",
       "</table>\n",
       "<p>330 rows × 11 columns</p>\n",
       "</div>"
      ],
      "text/plain": [
       "     _rowstate_                    Movie  Gender Marital_Status  Sinage  \\\n",
       "0             0  Ferris Buellers Day Off  Female        Married     2.0   \n",
       "1             0  Ferris Buellers Day Off  Female         Single     1.0   \n",
       "2             0  Ferris Buellers Day Off    Male        Married     2.0   \n",
       "3             0  Ferris Buellers Day Off  Female        Married     1.0   \n",
       "4             0  Ferris Buellers Day Off  Female        Married     1.0   \n",
       "..          ...                      ...     ...            ...     ...   \n",
       "325           0               Old School       2              2     1.0   \n",
       "326           0               Old School       1              1     2.0   \n",
       "327           0               Old School       2              1     2.0   \n",
       "328           0               Old School       1              1     1.0   \n",
       "329           0               Old School       2              2     2.0   \n",
       "\n",
       "     Parking  Clean  Overall  Age  Income Hear_About  \n",
       "0        2.0    2.0      2.0  3.0     1.0          5  \n",
       "1        1.0    1.0      1.0  2.0     1.0          5  \n",
       "2        4.0    3.0      2.0  4.0     1.0          5  \n",
       "3        3.0    2.0      2.0  4.0     1.0          5  \n",
       "4        1.0    1.0      1.0  3.0     3.0          1  \n",
       "..       ...    ...      ...  ...     ...        ...  \n",
       "325      2.0    1.0      1.0  2.0     1.0          1  \n",
       "326      2.0    2.0      2.0  3.0     3.0          5  \n",
       "327      1.0    1.0      2.0  2.0     2.0          5  \n",
       "328      1.0    1.0      1.0  2.0     1.0          3  \n",
       "329      2.0    3.0      1.0  2.0     1.0          5  \n",
       "\n",
       "[330 rows x 11 columns]"
      ]
     },
     "execution_count": 720,
     "metadata": {},
     "output_type": "execute_result"
    }
   ],
   "source": [
    "films=films.apply(miss)\n",
    "films"
   ]
  },
  {
   "cell_type": "code",
   "execution_count": 721,
   "id": "772597c1",
   "metadata": {
    "scrolled": false
   },
   "outputs": [
    {
     "data": {
      "text/plain": [
       "_rowstate_        0\n",
       "Movie             0\n",
       "Gender            0\n",
       "Marital_Status    0\n",
       "Sinage            0\n",
       "Parking           0\n",
       "Clean             0\n",
       "Overall           0\n",
       "Age               0\n",
       "Income            0\n",
       "Hear_About        0\n",
       "dtype: int64"
      ]
     },
     "execution_count": 721,
     "metadata": {},
     "output_type": "execute_result"
    }
   ],
   "source": [
    "films.isna().sum()"
   ]
  },
  {
   "cell_type": "code",
   "execution_count": 722,
   "id": "67707e68",
   "metadata": {},
   "outputs": [],
   "source": [
    "#Business Problem 5a : to find the overall customer staisfaction at populaiton level\n",
    "\n",
    "#Confidence Level : 95% confidence\n",
    "\n",
    "#CL: (mean-1.96*std, mean+1.96*std)"
   ]
  },
  {
   "cell_type": "code",
   "execution_count": 723,
   "id": "44e754ae",
   "metadata": {},
   "outputs": [
    {
     "data": {
      "text/plain": [
       "1.6189024390243902"
      ]
     },
     "execution_count": 723,
     "metadata": {},
     "output_type": "execute_result"
    }
   ],
   "source": [
    "mean_overall=films.Overall.mean()\n",
    "mean_overall"
   ]
  },
  {
   "cell_type": "code",
   "execution_count": 724,
   "id": "672f16f4",
   "metadata": {},
   "outputs": [
    {
     "data": {
      "text/plain": [
       "0.6871880168119916"
      ]
     },
     "execution_count": 724,
     "metadata": {},
     "output_type": "execute_result"
    }
   ],
   "source": [
    "stdev=films.Overall.std()\n",
    "stdev"
   ]
  },
  {
   "cell_type": "code",
   "execution_count": 725,
   "id": "9f0ac782",
   "metadata": {},
   "outputs": [
    {
     "data": {
      "text/plain": [
       "0.03782845531695236"
      ]
     },
     "execution_count": 725,
     "metadata": {},
     "output_type": "execute_result"
    }
   ],
   "source": [
    "SE=stdev/np.sqrt(330)\n",
    "SE"
   ]
  },
  {
   "cell_type": "code",
   "execution_count": 726,
   "id": "2e9c4045",
   "metadata": {},
   "outputs": [
    {
     "data": {
      "text/plain": [
       "(1.5447586666031636, 1.6930462114456168)"
      ]
     },
     "execution_count": 726,
     "metadata": {},
     "output_type": "execute_result"
    }
   ],
   "source": [
    "CL=(mean_overall-1.96*(SE), mean_overall+1.96*(SE))\n",
    "CL"
   ]
  },
  {
   "cell_type": "code",
   "execution_count": 727,
   "id": "50353664",
   "metadata": {},
   "outputs": [],
   "source": [
    "#Conclusion : Overall customer satisfaction lies between 1.54 and 1.69 i.e it is good"
   ]
  },
  {
   "cell_type": "code",
   "execution_count": 728,
   "id": "b72f3735",
   "metadata": {},
   "outputs": [],
   "source": [
    "#5b : to check if satisfaction is same or different for males and females\n",
    "\n",
    "#Type of samples: independent samples\n",
    "#Type of Test: indpendent t-test\n",
    "\n",
    "#H0: Avg_male_satisfaction = Avg_female_satisfaction\n",
    "#Ha: Avg_male_satisfaction <> Avg_female_satisfaction\n",
    "\n",
    "# Function is scipy.stats = stats.ttest_ind\n",
    "\n",
    "# confidence levels = 95% confidence levels\n",
    "\n",
    "#p-value<0.05 to reject null hypothesis"
   ]
  },
  {
   "cell_type": "code",
   "execution_count": 729,
   "id": "5ebe9c49",
   "metadata": {},
   "outputs": [],
   "source": [
    "films['Sinage']=films.Sinage.astype('int')"
   ]
  },
  {
   "cell_type": "code",
   "execution_count": 730,
   "id": "c4722c85",
   "metadata": {},
   "outputs": [],
   "source": [
    "films['Parking']=films.Parking.astype('int')"
   ]
  },
  {
   "cell_type": "code",
   "execution_count": 731,
   "id": "614370d3",
   "metadata": {},
   "outputs": [],
   "source": [
    "films['Clean']=films.Clean.astype('int')"
   ]
  },
  {
   "cell_type": "code",
   "execution_count": 732,
   "id": "442dad31",
   "metadata": {},
   "outputs": [],
   "source": [
    "films['Overall']=films.Overall.astype('int')"
   ]
  },
  {
   "cell_type": "code",
   "execution_count": 733,
   "id": "16f2850d",
   "metadata": {},
   "outputs": [
    {
     "data": {
      "text/plain": [
       "0      3.0\n",
       "1      2.0\n",
       "2      4.0\n",
       "3      4.0\n",
       "4      3.0\n",
       "      ... \n",
       "325    2.0\n",
       "326    3.0\n",
       "327    2.0\n",
       "328    2.0\n",
       "329    2.0\n",
       "Name: Age, Length: 330, dtype: object"
      ]
     },
     "execution_count": 733,
     "metadata": {},
     "output_type": "execute_result"
    }
   ],
   "source": [
    "films['Age']=films.Age.astype('str')\n",
    "films['Age']"
   ]
  },
  {
   "cell_type": "code",
   "execution_count": 734,
   "id": "dd10a108",
   "metadata": {},
   "outputs": [
    {
     "data": {
      "text/plain": [
       "0      1.0\n",
       "1      1.0\n",
       "2      1.0\n",
       "3      1.0\n",
       "4      3.0\n",
       "      ... \n",
       "325    1.0\n",
       "326    3.0\n",
       "327    2.0\n",
       "328    1.0\n",
       "329    1.0\n",
       "Name: Income, Length: 330, dtype: object"
      ]
     },
     "execution_count": 734,
     "metadata": {},
     "output_type": "execute_result"
    }
   ],
   "source": [
    "films['Income']=films.Income.astype('str')\n",
    "films['Income']"
   ]
  },
  {
   "cell_type": "code",
   "execution_count": 735,
   "id": "930bf99d",
   "metadata": {},
   "outputs": [
    {
     "data": {
      "text/plain": [
       "_rowstate_         int64\n",
       "Movie             object\n",
       "Gender            object\n",
       "Marital_Status    object\n",
       "Sinage             int32\n",
       "Parking            int32\n",
       "Clean              int32\n",
       "Overall            int32\n",
       "Age               object\n",
       "Income            object\n",
       "Hear_About        object\n",
       "dtype: object"
      ]
     },
     "execution_count": 735,
     "metadata": {},
     "output_type": "execute_result"
    }
   ],
   "source": [
    "films.dtypes"
   ]
  },
  {
   "cell_type": "code",
   "execution_count": 736,
   "id": "6e5687d1",
   "metadata": {
    "scrolled": true
   },
   "outputs": [
    {
     "data": {
      "text/plain": [
       "2         194\n",
       "1         104\n",
       "Female     19\n",
       "Male       13\n",
       "Name: Gender, dtype: int64"
      ]
     },
     "execution_count": 736,
     "metadata": {},
     "output_type": "execute_result"
    }
   ],
   "source": [
    "films.Gender.value_counts()"
   ]
  },
  {
   "cell_type": "code",
   "execution_count": 737,
   "id": "b384804d",
   "metadata": {
    "scrolled": true
   },
   "outputs": [
    {
     "data": {
      "text/plain": [
       "0      Female\n",
       "1      Female\n",
       "2           1\n",
       "3      Female\n",
       "4      Female\n",
       "        ...  \n",
       "325         2\n",
       "326         1\n",
       "327         2\n",
       "328         1\n",
       "329         2\n",
       "Name: Gender, Length: 330, dtype: object"
      ]
     },
     "execution_count": 737,
     "metadata": {},
     "output_type": "execute_result"
    }
   ],
   "source": [
    "films['Gender']=np.where(films.Gender=='Male', '1',films['Gender'])\n",
    "films['Gender']"
   ]
  },
  {
   "cell_type": "code",
   "execution_count": 738,
   "id": "919d9003",
   "metadata": {},
   "outputs": [
    {
     "data": {
      "text/plain": [
       "0      2\n",
       "1      2\n",
       "2      1\n",
       "3      2\n",
       "4      2\n",
       "      ..\n",
       "325    2\n",
       "326    1\n",
       "327    2\n",
       "328    1\n",
       "329    2\n",
       "Name: Gender, Length: 330, dtype: object"
      ]
     },
     "execution_count": 738,
     "metadata": {},
     "output_type": "execute_result"
    }
   ],
   "source": [
    "films['Gender']=np.where(films.Gender=='Female', '2',films['Gender'])\n",
    "films['Gender']"
   ]
  },
  {
   "cell_type": "code",
   "execution_count": 739,
   "id": "1e0bbe22",
   "metadata": {},
   "outputs": [
    {
     "data": {
      "text/plain": [
       "2    213\n",
       "1    117\n",
       "Name: Gender, dtype: int64"
      ]
     },
     "execution_count": 739,
     "metadata": {},
     "output_type": "execute_result"
    }
   ],
   "source": [
    "films.Gender.value_counts()"
   ]
  },
  {
   "cell_type": "code",
   "execution_count": 740,
   "id": "8f4dd82c",
   "metadata": {
    "scrolled": true
   },
   "outputs": [
    {
     "data": {
      "text/plain": [
       "2      2\n",
       "6      2\n",
       "10     2\n",
       "13     5\n",
       "14     1\n",
       "      ..\n",
       "319    1\n",
       "323    2\n",
       "324    1\n",
       "326    2\n",
       "328    1\n",
       "Name: Overall, Length: 117, dtype: int32"
      ]
     },
     "execution_count": 740,
     "metadata": {},
     "output_type": "execute_result"
    }
   ],
   "source": [
    "male_overall=films.Overall[films.Gender=='1']\n",
    "male_overall"
   ]
  },
  {
   "cell_type": "code",
   "execution_count": 741,
   "id": "4811d7f2",
   "metadata": {},
   "outputs": [
    {
     "data": {
      "text/plain": [
       "0      2\n",
       "1      1\n",
       "3      2\n",
       "4      1\n",
       "5      1\n",
       "      ..\n",
       "321    1\n",
       "322    1\n",
       "325    1\n",
       "327    2\n",
       "329    1\n",
       "Name: Overall, Length: 213, dtype: int32"
      ]
     },
     "execution_count": 741,
     "metadata": {},
     "output_type": "execute_result"
    }
   ],
   "source": [
    "female_overall=films.Overall[films.Gender=='2']\n",
    "female_overall"
   ]
  },
  {
   "cell_type": "code",
   "execution_count": 742,
   "id": "6a1e7f6a",
   "metadata": {},
   "outputs": [
    {
     "data": {
      "text/plain": [
       "Ttest_indResult(statistic=1.3425610264193486, pvalue=0.18034257012874402)"
      ]
     },
     "execution_count": 742,
     "metadata": {},
     "output_type": "execute_result"
    }
   ],
   "source": [
    "stats.ttest_ind(male_overall, female_overall)"
   ]
  },
  {
   "cell_type": "code",
   "execution_count": 743,
   "id": "10d75854",
   "metadata": {},
   "outputs": [],
   "source": [
    "#Conclsuion: p>0.05, we can't reject null hypothesis\n",
    "#Business Conlcusion: with 95% confidence , we can say gender is not affecting overall customer satisfaction"
   ]
  },
  {
   "cell_type": "code",
   "execution_count": 744,
   "id": "b6a765fe",
   "metadata": {},
   "outputs": [],
   "source": [
    "#5b: to check if satisfaction is same or different for different marital status\n",
    "\n",
    "#Type of samples: independent samples\n",
    "#Type of Test: indpendent t-test\n",
    "\n",
    "#H0: Avg_married_satisfaction = Avg_singlesatisfaction\n",
    "#Ha: Avg_married_satisfaction <> Avg_single_satisfaction\n",
    "\n",
    "# Function is scipy.stats = stats.ttest_ind\n",
    "\n",
    "# confidence levels = 95% confidence levels\n",
    "\n",
    "#p-value<0.05 to reject null hypothesis "
   ]
  },
  {
   "cell_type": "code",
   "execution_count": 745,
   "id": "2e595744",
   "metadata": {},
   "outputs": [
    {
     "data": {
      "text/plain": [
       "2          210\n",
       "1           88\n",
       "Single      18\n",
       "Married     12\n",
       "Slngle       2\n",
       "Name: Marital_Status, dtype: int64"
      ]
     },
     "execution_count": 745,
     "metadata": {},
     "output_type": "execute_result"
    }
   ],
   "source": [
    "films.Marital_Status.value_counts()"
   ]
  },
  {
   "cell_type": "code",
   "execution_count": 746,
   "id": "c71f1068",
   "metadata": {},
   "outputs": [
    {
     "data": {
      "text/plain": [
       "0           1\n",
       "1      Single\n",
       "2           1\n",
       "3           1\n",
       "4           1\n",
       "        ...  \n",
       "325         2\n",
       "326         1\n",
       "327         1\n",
       "328         1\n",
       "329         2\n",
       "Name: Marital_Status, Length: 330, dtype: object"
      ]
     },
     "execution_count": 746,
     "metadata": {},
     "output_type": "execute_result"
    }
   ],
   "source": [
    "films['Marital_Status']=np.where(films.Marital_Status=='Married', '1', films['Marital_Status'])\n",
    "films['Marital_Status']"
   ]
  },
  {
   "cell_type": "code",
   "execution_count": 747,
   "id": "44399bc8",
   "metadata": {},
   "outputs": [
    {
     "data": {
      "text/plain": [
       "0      1\n",
       "1      2\n",
       "2      1\n",
       "3      1\n",
       "4      1\n",
       "      ..\n",
       "325    2\n",
       "326    1\n",
       "327    1\n",
       "328    1\n",
       "329    2\n",
       "Name: Marital_Status, Length: 330, dtype: object"
      ]
     },
     "execution_count": 747,
     "metadata": {},
     "output_type": "execute_result"
    }
   ],
   "source": [
    "films['Marital_Status']=np.where(films.Marital_Status=='Single', '2', films['Marital_Status'])\n",
    "films['Marital_Status']"
   ]
  },
  {
   "cell_type": "code",
   "execution_count": 748,
   "id": "877f46cb",
   "metadata": {},
   "outputs": [
    {
     "data": {
      "text/plain": [
       "0      1\n",
       "1      2\n",
       "2      1\n",
       "3      1\n",
       "4      1\n",
       "      ..\n",
       "325    2\n",
       "326    1\n",
       "327    1\n",
       "328    1\n",
       "329    2\n",
       "Name: Marital_Status, Length: 330, dtype: object"
      ]
     },
     "execution_count": 748,
     "metadata": {},
     "output_type": "execute_result"
    }
   ],
   "source": [
    "films['Marital_Status']=np.where(films.Marital_Status=='Slngle', '2', films['Marital_Status'])\n",
    "films['Marital_Status']"
   ]
  },
  {
   "cell_type": "code",
   "execution_count": 749,
   "id": "5b1e6951",
   "metadata": {},
   "outputs": [
    {
     "data": {
      "text/plain": [
       "2    230\n",
       "1    100\n",
       "Name: Marital_Status, dtype: int64"
      ]
     },
     "execution_count": 749,
     "metadata": {},
     "output_type": "execute_result"
    }
   ],
   "source": [
    "films.Marital_Status.value_counts()"
   ]
  },
  {
   "cell_type": "code",
   "execution_count": 750,
   "id": "951a7367",
   "metadata": {
    "scrolled": true
   },
   "outputs": [
    {
     "data": {
      "text/plain": [
       "0      2\n",
       "2      2\n",
       "3      2\n",
       "4      1\n",
       "5      1\n",
       "      ..\n",
       "317    1\n",
       "321    1\n",
       "326    2\n",
       "327    2\n",
       "328    1\n",
       "Name: Overall, Length: 100, dtype: int32"
      ]
     },
     "execution_count": 750,
     "metadata": {},
     "output_type": "execute_result"
    }
   ],
   "source": [
    "married_satisfaction=films.Overall[films.Marital_Status=='1']\n",
    "married_satisfaction"
   ]
  },
  {
   "cell_type": "code",
   "execution_count": 751,
   "id": "b6214051",
   "metadata": {},
   "outputs": [
    {
     "data": {
      "text/plain": [
       "1      1\n",
       "7      1\n",
       "8      1\n",
       "9      2\n",
       "12     1\n",
       "      ..\n",
       "322    1\n",
       "323    2\n",
       "324    1\n",
       "325    1\n",
       "329    1\n",
       "Name: Overall, Length: 230, dtype: int32"
      ]
     },
     "execution_count": 751,
     "metadata": {},
     "output_type": "execute_result"
    }
   ],
   "source": [
    "single_satisfaction=films.Overall[films.Marital_Status=='2']\n",
    "single_satisfaction"
   ]
  },
  {
   "cell_type": "code",
   "execution_count": 752,
   "id": "3bfbe9fd",
   "metadata": {},
   "outputs": [
    {
     "data": {
      "text/plain": [
       "Ttest_indResult(statistic=-0.7846470450359802, pvalue=0.4332268662534605)"
      ]
     },
     "execution_count": 752,
     "metadata": {},
     "output_type": "execute_result"
    }
   ],
   "source": [
    "stats.ttest_ind(married_satisfaction, single_satisfaction)"
   ]
  },
  {
   "cell_type": "code",
   "execution_count": 753,
   "id": "876fa294",
   "metadata": {},
   "outputs": [],
   "source": [
    "#Conclsuion: p>0.05, we can't reject null hypothesis\n",
    "#Business Conlcusion: with 95% confidence , we can say marital status is not affecting overall customer satisfaction"
   ]
  },
  {
   "cell_type": "code",
   "execution_count": 754,
   "id": "11e0a692",
   "metadata": {},
   "outputs": [],
   "source": [
    "#Question-5c: satisfaction for different age groups is same or different\n",
    "\n",
    "#Type of samples: multiple independentt samples\n",
    "#Type of Test: f-test\n",
    "\n",
    "#H0: Avg_s1= Avg_s2 =Avg_s3.....Avg_sn\n",
    "#Ha: one of the average is different from others\n",
    "\n",
    "# Function is scipy.stats = stats.f_1way\n",
    "\n",
    "# confidence levels = 95% confidence levels\n",
    "\n",
    "#p-value<0.05 to reject null hypothesis"
   ]
  },
  {
   "cell_type": "code",
   "execution_count": 755,
   "id": "1afbe913",
   "metadata": {
    "scrolled": true
   },
   "outputs": [
    {
     "data": {
      "text/plain": [
       "0      3\n",
       "1      2\n",
       "2      4\n",
       "3      4\n",
       "4      3\n",
       "      ..\n",
       "325    2\n",
       "326    3\n",
       "327    2\n",
       "328    2\n",
       "329    2\n",
       "Name: Age, Length: 330, dtype: object"
      ]
     },
     "execution_count": 755,
     "metadata": {},
     "output_type": "execute_result"
    }
   ],
   "source": [
    "films['Age']=films.Age.apply (lambda x:str(x).replace('.', '').replace('0', ''))\n",
    "films['Age']"
   ]
  },
  {
   "cell_type": "code",
   "execution_count": 756,
   "id": "024f3df2",
   "metadata": {
    "scrolled": true
   },
   "outputs": [
    {
     "data": {
      "text/plain": [
       "2    177\n",
       "3    117\n",
       "1     26\n",
       "4     10\n",
       "Name: Age, dtype: int64"
      ]
     },
     "execution_count": 756,
     "metadata": {},
     "output_type": "execute_result"
    }
   ],
   "source": [
    "films.Age.value_counts()"
   ]
  },
  {
   "cell_type": "code",
   "execution_count": 757,
   "id": "28eacf1e",
   "metadata": {},
   "outputs": [
    {
     "data": {
      "text/plain": [
       "19     1\n",
       "35     1\n",
       "37     1\n",
       "58     1\n",
       "60     2\n",
       "72     2\n",
       "73     2\n",
       "77     2\n",
       "80     1\n",
       "102    3\n",
       "128    1\n",
       "130    5\n",
       "142    2\n",
       "148    1\n",
       "164    1\n",
       "167    1\n",
       "175    2\n",
       "182    1\n",
       "183    1\n",
       "185    1\n",
       "221    1\n",
       "227    2\n",
       "241    1\n",
       "255    2\n",
       "301    1\n",
       "314    1\n",
       "Name: Overall, dtype: int32"
      ]
     },
     "execution_count": 757,
     "metadata": {},
     "output_type": "execute_result"
    }
   ],
   "source": [
    "age1_overall=films.Overall[films.Age=='1']\n",
    "age1_overall"
   ]
  },
  {
   "cell_type": "code",
   "execution_count": 758,
   "id": "856139d3",
   "metadata": {},
   "outputs": [
    {
     "data": {
      "text/plain": [
       "1      1\n",
       "13     5\n",
       "14     1\n",
       "15     1\n",
       "16     2\n",
       "      ..\n",
       "324    1\n",
       "325    1\n",
       "327    2\n",
       "328    1\n",
       "329    1\n",
       "Name: Overall, Length: 177, dtype: int32"
      ]
     },
     "execution_count": 758,
     "metadata": {},
     "output_type": "execute_result"
    }
   ],
   "source": [
    "age2_overall=films.Overall[films.Age=='2']\n",
    "age2_overall"
   ]
  },
  {
   "cell_type": "code",
   "execution_count": 759,
   "id": "8503432c",
   "metadata": {},
   "outputs": [
    {
     "data": {
      "text/plain": [
       "0      2\n",
       "4      1\n",
       "5      1\n",
       "6      2\n",
       "7      1\n",
       "      ..\n",
       "312    2\n",
       "317    1\n",
       "318    1\n",
       "321    1\n",
       "326    2\n",
       "Name: Overall, Length: 117, dtype: int32"
      ]
     },
     "execution_count": 759,
     "metadata": {},
     "output_type": "execute_result"
    }
   ],
   "source": [
    "age3_overall=films.Overall[films.Age=='3']\n",
    "age3_overall"
   ]
  },
  {
   "cell_type": "code",
   "execution_count": 760,
   "id": "a7cd5a03",
   "metadata": {},
   "outputs": [
    {
     "data": {
      "text/plain": [
       "2      2\n",
       "3      2\n",
       "10     2\n",
       "11     2\n",
       "27     1\n",
       "88     2\n",
       "117    1\n",
       "194    2\n",
       "195    2\n",
       "268    1\n",
       "Name: Overall, dtype: int32"
      ]
     },
     "execution_count": 760,
     "metadata": {},
     "output_type": "execute_result"
    }
   ],
   "source": [
    "age4_overall=films.Overall[films.Age=='4']\n",
    "age4_overall"
   ]
  },
  {
   "cell_type": "code",
   "execution_count": 761,
   "id": "799e44ff",
   "metadata": {},
   "outputs": [
    {
     "data": {
      "text/plain": [
       "F_onewayResult(statistic=0.8685103962920061, pvalue=0.4576391632435566)"
      ]
     },
     "execution_count": 761,
     "metadata": {},
     "output_type": "execute_result"
    }
   ],
   "source": [
    "stats.f_oneway(age1_overall, age2_overall, age3_overall, age4_overall)"
   ]
  },
  {
   "cell_type": "code",
   "execution_count": 762,
   "id": "38a3adfe",
   "metadata": {},
   "outputs": [],
   "source": [
    "#Conclsuion: p>0.05, we can't reject null hypothesis\n",
    "#Business Conlcusion: with 95% confidence , we can say age is not affecting overall customer satisfaction"
   ]
  },
  {
   "cell_type": "code",
   "execution_count": 763,
   "id": "6e07a1e5",
   "metadata": {},
   "outputs": [],
   "source": [
    "#Question-5c: satisfaction for different income groups is same or different\n",
    "\n",
    "#Type of samples: multiple independentt samples\n",
    "#Type of Test: f-test\n",
    "\n",
    "#H0: Avg_s1= Avg_s2 =Avg_s3.....Avg_sn\n",
    "#Ha: one of the average is different from others\n",
    "\n",
    "# Function is scipy.stats = stats.f_1way\n",
    "\n",
    "# confidence levels = 95% confidence levels\n",
    "\n",
    "#p-value<0.05 to reject null hypothesis"
   ]
  },
  {
   "cell_type": "code",
   "execution_count": 764,
   "id": "2edce1c8",
   "metadata": {},
   "outputs": [
    {
     "data": {
      "text/plain": [
       "0      1\n",
       "1      1\n",
       "2      1\n",
       "3      1\n",
       "4      3\n",
       "      ..\n",
       "325    1\n",
       "326    3\n",
       "327    2\n",
       "328    1\n",
       "329    1\n",
       "Name: Income, Length: 330, dtype: object"
      ]
     },
     "execution_count": 764,
     "metadata": {},
     "output_type": "execute_result"
    }
   ],
   "source": [
    "films['Income']=films.Income.apply (lambda x:str(x).replace('.', '').replace('0', ''))\n",
    "films['Income']"
   ]
  },
  {
   "cell_type": "code",
   "execution_count": 765,
   "id": "36ca0ded",
   "metadata": {},
   "outputs": [
    {
     "data": {
      "text/plain": [
       "_rowstate_         int64\n",
       "Movie             object\n",
       "Gender            object\n",
       "Marital_Status    object\n",
       "Sinage             int32\n",
       "Parking            int32\n",
       "Clean              int32\n",
       "Overall            int32\n",
       "Age               object\n",
       "Income            object\n",
       "Hear_About        object\n",
       "dtype: object"
      ]
     },
     "execution_count": 765,
     "metadata": {},
     "output_type": "execute_result"
    }
   ],
   "source": [
    "films.dtypes"
   ]
  },
  {
   "cell_type": "code",
   "execution_count": 766,
   "id": "f0c0610f",
   "metadata": {
    "scrolled": false
   },
   "outputs": [
    {
     "data": {
      "text/plain": [
       "1    158\n",
       "3     90\n",
       "2     82\n",
       "Name: Income, dtype: int64"
      ]
     },
     "execution_count": 766,
     "metadata": {},
     "output_type": "execute_result"
    }
   ],
   "source": [
    "films.Income.value_counts()"
   ]
  },
  {
   "cell_type": "code",
   "execution_count": 767,
   "id": "447a0fb8",
   "metadata": {},
   "outputs": [
    {
     "data": {
      "text/plain": [
       "0      2\n",
       "1      1\n",
       "2      2\n",
       "3      2\n",
       "7      1\n",
       "      ..\n",
       "322    1\n",
       "324    1\n",
       "325    1\n",
       "328    1\n",
       "329    1\n",
       "Name: Overall, Length: 158, dtype: int32"
      ]
     },
     "execution_count": 767,
     "metadata": {},
     "output_type": "execute_result"
    }
   ],
   "source": [
    "income1=films.Overall[films.Income=='1']\n",
    "income1"
   ]
  },
  {
   "cell_type": "code",
   "execution_count": 768,
   "id": "be7d129e",
   "metadata": {},
   "outputs": [
    {
     "data": {
      "text/plain": [
       "13     5\n",
       "15     1\n",
       "30     2\n",
       "31     1\n",
       "32     1\n",
       "      ..\n",
       "311    1\n",
       "312    2\n",
       "315    1\n",
       "317    1\n",
       "327    2\n",
       "Name: Overall, Length: 82, dtype: int32"
      ]
     },
     "execution_count": 768,
     "metadata": {},
     "output_type": "execute_result"
    }
   ],
   "source": [
    "income2=films.Overall[films.Income=='2']\n",
    "income2"
   ]
  },
  {
   "cell_type": "code",
   "execution_count": 769,
   "id": "83c927d1",
   "metadata": {},
   "outputs": [
    {
     "data": {
      "text/plain": [
       "4      1\n",
       "5      1\n",
       "6      2\n",
       "17     3\n",
       "18     2\n",
       "      ..\n",
       "314    1\n",
       "316    2\n",
       "321    1\n",
       "323    2\n",
       "326    2\n",
       "Name: Overall, Length: 90, dtype: int32"
      ]
     },
     "execution_count": 769,
     "metadata": {},
     "output_type": "execute_result"
    }
   ],
   "source": [
    "income3=films.Overall[films.Income=='3']\n",
    "income3"
   ]
  },
  {
   "cell_type": "code",
   "execution_count": 770,
   "id": "2d8625aa",
   "metadata": {},
   "outputs": [
    {
     "data": {
      "text/plain": [
       "F_onewayResult(statistic=0.10258250146166224, pvalue=0.9025327205555762)"
      ]
     },
     "execution_count": 770,
     "metadata": {},
     "output_type": "execute_result"
    }
   ],
   "source": [
    "stats.f_oneway(income1, income2, income3)"
   ]
  },
  {
   "cell_type": "code",
   "execution_count": 771,
   "id": "6864dc1f",
   "metadata": {},
   "outputs": [],
   "source": [
    "#Conclsuion: p>0.05, and we can't reject null hypothesis\n",
    "#Business Conlcusion:p values is close to 1.0, so  with 95% confidence , we can say averages of all income groups satisfaction are almost same"
   ]
  },
  {
   "cell_type": "code",
   "execution_count": null,
   "id": "ccbafbae",
   "metadata": {},
   "outputs": [],
   "source": [
    "#Question-5c: satisfaction for different Hear_Abouts is same or different\n",
    "\n",
    "#Type of samples: multiple independentt samples\n",
    "#Type of Test: f-test\n",
    "\n",
    "#H0: Avg_s1= Avg_s2 =Avg_s3.....Avg_sn\n",
    "#Ha: one of the average is different from others\n",
    "\n",
    "# Function is scipy.stats = stats.f_1way\n",
    "\n",
    "# confidence levels = 95% confidence levels\n",
    "\n",
    "#p-value<0.05 to reject null hypothesis"
   ]
  },
  {
   "cell_type": "code",
   "execution_count": 772,
   "id": "8194eda4",
   "metadata": {
    "scrolled": true
   },
   "outputs": [
    {
     "data": {
      "text/plain": [
       "5      233\n",
       "4       41\n",
       "1       22\n",
       "3       14\n",
       "2       12\n",
       "2,5      2\n",
       "3,4      2\n",
       "4,5      1\n",
       "1,5      1\n",
       "5,4      1\n",
       "3,5      1\n",
       "Name: Hear_About, dtype: int64"
      ]
     },
     "execution_count": 772,
     "metadata": {},
     "output_type": "execute_result"
    }
   ],
   "source": [
    "films.Hear_About.value_counts()"
   ]
  },
  {
   "cell_type": "code",
   "execution_count": 776,
   "id": "f2790036",
   "metadata": {
    "scrolled": false
   },
   "outputs": [
    {
     "data": {
      "text/plain": [
       "0      2\n",
       "1      1\n",
       "2      2\n",
       "3      2\n",
       "5      1\n",
       "      ..\n",
       "323    2\n",
       "324    1\n",
       "326    2\n",
       "327    2\n",
       "329    1\n",
       "Name: Overall, Length: 233, dtype: int32"
      ]
     },
     "execution_count": 776,
     "metadata": {},
     "output_type": "execute_result"
    }
   ],
   "source": [
    "hear5=films.Overall[films.Hear_About=='5']\n",
    "hear5"
   ]
  },
  {
   "cell_type": "code",
   "execution_count": 777,
   "id": "2bd9ec6c",
   "metadata": {},
   "outputs": [
    {
     "data": {
      "text/plain": [
       "7      1\n",
       "8      1\n",
       "9      2\n",
       "15     1\n",
       "27     1\n",
       "30     2\n",
       "88     2\n",
       "89     2\n",
       "93     2\n",
       "96     1\n",
       "97     1\n",
       "99     1\n",
       "103    1\n",
       "107    2\n",
       "110    2\n",
       "122    1\n",
       "135    3\n",
       "142    2\n",
       "143    2\n",
       "144    2\n",
       "150    1\n",
       "159    2\n",
       "180    2\n",
       "183    1\n",
       "187    1\n",
       "188    2\n",
       "192    2\n",
       "198    3\n",
       "200    2\n",
       "204    2\n",
       "206    2\n",
       "215    2\n",
       "216    2\n",
       "229    1\n",
       "235    2\n",
       "244    1\n",
       "270    1\n",
       "273    3\n",
       "279    1\n",
       "289    1\n",
       "316    2\n",
       "Name: Overall, dtype: int32"
      ]
     },
     "execution_count": 777,
     "metadata": {},
     "output_type": "execute_result"
    }
   ],
   "source": [
    "hear4=films.Overall[films.Hear_About=='4']\n",
    "hear4"
   ]
  },
  {
   "cell_type": "code",
   "execution_count": 778,
   "id": "47ae23bd",
   "metadata": {},
   "outputs": [
    {
     "data": {
      "text/plain": [
       "25     2\n",
       "26     2\n",
       "75     2\n",
       "117    1\n",
       "154    1\n",
       "164    1\n",
       "165    1\n",
       "166    1\n",
       "167    1\n",
       "202    1\n",
       "203    2\n",
       "258    1\n",
       "267    1\n",
       "328    1\n",
       "Name: Overall, dtype: int32"
      ]
     },
     "execution_count": 778,
     "metadata": {},
     "output_type": "execute_result"
    }
   ],
   "source": [
    "hear3=films.Overall[films.Hear_About=='3']\n",
    "hear3"
   ]
  },
  {
   "cell_type": "code",
   "execution_count": 779,
   "id": "b5eca6dc",
   "metadata": {},
   "outputs": [
    {
     "data": {
      "text/plain": [
       "23     1\n",
       "34     2\n",
       "54     2\n",
       "101    1\n",
       "184    1\n",
       "205    1\n",
       "240    1\n",
       "241    1\n",
       "308    2\n",
       "318    1\n",
       "319    1\n",
       "321    1\n",
       "Name: Overall, dtype: int32"
      ]
     },
     "execution_count": 779,
     "metadata": {},
     "output_type": "execute_result"
    }
   ],
   "source": [
    "hear2=films.Overall[films.Hear_About=='2']\n",
    "hear2"
   ]
  },
  {
   "cell_type": "code",
   "execution_count": 780,
   "id": "fe82c804",
   "metadata": {},
   "outputs": [
    {
     "data": {
      "text/plain": [
       "4      1\n",
       "10     2\n",
       "12     1\n",
       "20     2\n",
       "21     2\n",
       "31     1\n",
       "32     1\n",
       "78     1\n",
       "79     2\n",
       "95     1\n",
       "98     3\n",
       "126    2\n",
       "130    5\n",
       "148    1\n",
       "157    2\n",
       "194    2\n",
       "209    1\n",
       "237    2\n",
       "265    2\n",
       "266    3\n",
       "288    2\n",
       "325    1\n",
       "Name: Overall, dtype: int32"
      ]
     },
     "execution_count": 780,
     "metadata": {},
     "output_type": "execute_result"
    }
   ],
   "source": [
    "hear1=films.Overall[films.Hear_About=='1']\n",
    "hear1"
   ]
  },
  {
   "cell_type": "code",
   "execution_count": 782,
   "id": "1aa785a7",
   "metadata": {},
   "outputs": [
    {
     "data": {
      "text/plain": [
       "0      2\n",
       "1      1\n",
       "2      2\n",
       "3      2\n",
       "5      1\n",
       "      ..\n",
       "323    2\n",
       "324    1\n",
       "326    2\n",
       "327    2\n",
       "329    1\n",
       "Name: Overall, Length: 245, dtype: int32"
      ]
     },
     "execution_count": 782,
     "metadata": {},
     "output_type": "execute_result"
    }
   ],
   "source": [
    "hear2_5=films.Overall[((films.Hear_About=='2') | (films.Hear_About=='5'))]\n",
    "hear2_5"
   ]
  },
  {
   "cell_type": "code",
   "execution_count": 783,
   "id": "94138c5e",
   "metadata": {},
   "outputs": [
    {
     "data": {
      "text/plain": [
       "7      1\n",
       "8      1\n",
       "9      2\n",
       "15     1\n",
       "25     2\n",
       "26     2\n",
       "27     1\n",
       "30     2\n",
       "75     2\n",
       "88     2\n",
       "89     2\n",
       "93     2\n",
       "96     1\n",
       "97     1\n",
       "99     1\n",
       "103    1\n",
       "107    2\n",
       "110    2\n",
       "117    1\n",
       "122    1\n",
       "135    3\n",
       "142    2\n",
       "143    2\n",
       "144    2\n",
       "150    1\n",
       "154    1\n",
       "159    2\n",
       "164    1\n",
       "165    1\n",
       "166    1\n",
       "167    1\n",
       "180    2\n",
       "183    1\n",
       "187    1\n",
       "188    2\n",
       "192    2\n",
       "198    3\n",
       "200    2\n",
       "202    1\n",
       "203    2\n",
       "204    2\n",
       "206    2\n",
       "215    2\n",
       "216    2\n",
       "229    1\n",
       "235    2\n",
       "244    1\n",
       "258    1\n",
       "267    1\n",
       "270    1\n",
       "273    3\n",
       "279    1\n",
       "289    1\n",
       "316    2\n",
       "328    1\n",
       "Name: Overall, dtype: int32"
      ]
     },
     "execution_count": 783,
     "metadata": {},
     "output_type": "execute_result"
    }
   ],
   "source": [
    "hear3_4=films.Overall[((films.Hear_About=='3') | (films.Hear_About=='4'))]\n",
    "hear3_4"
   ]
  },
  {
   "cell_type": "code",
   "execution_count": 784,
   "id": "6baf3610",
   "metadata": {},
   "outputs": [
    {
     "data": {
      "text/plain": [
       "0      2\n",
       "1      1\n",
       "2      2\n",
       "3      2\n",
       "5      1\n",
       "      ..\n",
       "323    2\n",
       "324    1\n",
       "326    2\n",
       "327    2\n",
       "329    1\n",
       "Name: Overall, Length: 274, dtype: int32"
      ]
     },
     "execution_count": 784,
     "metadata": {},
     "output_type": "execute_result"
    }
   ],
   "source": [
    "hear4_5=films.Overall[((films.Hear_About=='4') | (films.Hear_About=='5'))]\n",
    "hear4_5"
   ]
  },
  {
   "cell_type": "code",
   "execution_count": 785,
   "id": "48cc2390",
   "metadata": {},
   "outputs": [
    {
     "data": {
      "text/plain": [
       "0      2\n",
       "1      1\n",
       "2      2\n",
       "3      2\n",
       "4      1\n",
       "      ..\n",
       "324    1\n",
       "325    1\n",
       "326    2\n",
       "327    2\n",
       "329    1\n",
       "Name: Overall, Length: 255, dtype: int32"
      ]
     },
     "execution_count": 785,
     "metadata": {},
     "output_type": "execute_result"
    }
   ],
   "source": [
    "hear1_5=films.Overall[((films.Hear_About=='1') | (films.Hear_About=='5'))]\n",
    "hear1_5"
   ]
  },
  {
   "cell_type": "code",
   "execution_count": 787,
   "id": "14419005",
   "metadata": {},
   "outputs": [
    {
     "data": {
      "text/plain": [
       "0      2\n",
       "1      1\n",
       "2      2\n",
       "3      2\n",
       "5      1\n",
       "      ..\n",
       "323    2\n",
       "324    1\n",
       "326    2\n",
       "327    2\n",
       "329    1\n",
       "Name: Overall, Length: 274, dtype: int32"
      ]
     },
     "execution_count": 787,
     "metadata": {},
     "output_type": "execute_result"
    }
   ],
   "source": [
    "hear5_4=films.Overall[((films.Hear_About=='5') | (films.Hear_About=='4'))]\n",
    "hear5_4"
   ]
  },
  {
   "cell_type": "code",
   "execution_count": 786,
   "id": "4cb2b482",
   "metadata": {},
   "outputs": [
    {
     "data": {
      "text/plain": [
       "0      2\n",
       "1      1\n",
       "2      2\n",
       "3      2\n",
       "5      1\n",
       "      ..\n",
       "324    1\n",
       "326    2\n",
       "327    2\n",
       "328    1\n",
       "329    1\n",
       "Name: Overall, Length: 247, dtype: int32"
      ]
     },
     "execution_count": 786,
     "metadata": {},
     "output_type": "execute_result"
    }
   ],
   "source": [
    "hear3_5=films.Overall[((films.Hear_About=='3') | (films.Hear_About=='5'))]\n",
    "hear3_5"
   ]
  },
  {
   "cell_type": "code",
   "execution_count": 788,
   "id": "f811b0cb",
   "metadata": {},
   "outputs": [
    {
     "data": {
      "text/plain": [
       "5      233\n",
       "4       41\n",
       "1       22\n",
       "3       14\n",
       "2       12\n",
       "2,5      2\n",
       "3,4      2\n",
       "4,5      1\n",
       "1,5      1\n",
       "5,4      1\n",
       "3,5      1\n",
       "Name: Hear_About, dtype: int64"
      ]
     },
     "execution_count": 788,
     "metadata": {},
     "output_type": "execute_result"
    }
   ],
   "source": [
    "films.Hear_About.value_counts()"
   ]
  },
  {
   "cell_type": "code",
   "execution_count": 790,
   "id": "4c0ec20b",
   "metadata": {},
   "outputs": [
    {
     "data": {
      "text/plain": [
       "F_onewayResult(statistic=1.0174812583331834, pvalue=0.42586466125650074)"
      ]
     },
     "execution_count": 790,
     "metadata": {},
     "output_type": "execute_result"
    }
   ],
   "source": [
    "stats.f_oneway(hear5, hear4, hear1, hear3, hear2, hear2_5, hear3_4, hear4_5, hear1_5, hear5_4, hear3_5 )"
   ]
  },
  {
   "cell_type": "code",
   "execution_count": 791,
   "id": "8bbb4787",
   "metadata": {},
   "outputs": [],
   "source": [
    "#Conclusion: p>0.05, and we can't reject null hypothesis\n",
    "#Business Conlcusion:with 95% confidence , we can say there is no effect of Hear_About on overall customer satisfaction"
   ]
  },
  {
   "cell_type": "code",
   "execution_count": null,
   "id": "9f084c63",
   "metadata": {},
   "outputs": [],
   "source": [
    "# Question-5b: Relationship between Sinage and overall customer satisfaction\n",
    "\n",
    "#Type of samples: two independt samples\n",
    "#objective: find the relaitonship\n",
    "#Types of variables: both are numerical\n",
    "#Type of Test: correlation test\n",
    "\n",
    "#H0: S_corr = 0\n",
    "#Ha: S_corr<>0\n",
    "\n",
    "# Function is scipy.stats = stats.pearsonr()\n",
    "\n",
    "# confidence levels = 95% confidence levels\n",
    "\n",
    "#p-value<0.05 to reject null hypothesis"
   ]
  },
  {
   "cell_type": "code",
   "execution_count": 797,
   "id": "9f37a5e7",
   "metadata": {},
   "outputs": [
    {
     "data": {
      "text/plain": [
       "(0.3855492679231839, 3.8746943026879733e-13)"
      ]
     },
     "execution_count": 797,
     "metadata": {},
     "output_type": "execute_result"
    }
   ],
   "source": [
    "stats.pearsonr(films.Sinage, films.Overall)"
   ]
  },
  {
   "cell_type": "code",
   "execution_count": null,
   "id": "9cec7e60",
   "metadata": {},
   "outputs": [],
   "source": [
    "#Conclusion: p<0.05, and we can reject null hypothesis and accept alernate hypotheis\n",
    "#Business Conlcusion:with 95% confidence , we can say there is effect of Sinage on overall customer satisfaction"
   ]
  },
  {
   "cell_type": "code",
   "execution_count": null,
   "id": "0e17f2ca",
   "metadata": {},
   "outputs": [],
   "source": [
    "# Question-5b: Relationship between Parking and overall customer satisfaction\n",
    "\n",
    "#Type of samples: two independt samples\n",
    "#objective: find the relaitonship\n",
    "#Types of variables: both are numerical\n",
    "#Type of Test: correlation test\n",
    "\n",
    "#H0: S_corr = 0\n",
    "#Ha: S_corr<>0\n",
    "\n",
    "# Function is scipy.stats = stats.pearsonr()\n",
    "\n",
    "# confidence levels = 95% confidence levels\n",
    "\n",
    "#p-value<0.05 to reject null hypothesis"
   ]
  },
  {
   "cell_type": "code",
   "execution_count": 798,
   "id": "7e2f1066",
   "metadata": {},
   "outputs": [
    {
     "data": {
      "text/plain": [
       "(0.5165212246697672, 6.669414459895692e-24)"
      ]
     },
     "execution_count": 798,
     "metadata": {},
     "output_type": "execute_result"
    }
   ],
   "source": [
    "stats.pearsonr(films.Parking, films.Overall)"
   ]
  },
  {
   "cell_type": "code",
   "execution_count": null,
   "id": "9e5331bc",
   "metadata": {},
   "outputs": [],
   "source": [
    "#Conclusion: p<0.05, and we can reject null hypothesis and accept alernate hypotheis\n",
    "#Business Conlcusion:with 95% confidence , we can say there is effect of parking on overall customer satisfaction"
   ]
  },
  {
   "cell_type": "code",
   "execution_count": null,
   "id": "1968e0fa",
   "metadata": {},
   "outputs": [],
   "source": [
    "# Question-5b: Relationship between Clean and overall customer satisfaction\n",
    "\n",
    "#Type of samples: two independent samples\n",
    "#objective: find the relaitonship\n",
    "#Types of variables: both are numerical\n",
    "#Type of Test: correlation test\n",
    "\n",
    "#H0: S_corr = 0\n",
    "#Ha: S_corr<>0\n",
    "\n",
    "# Function is scipy.stats = stats.pearsonr()\n",
    "\n",
    "# confidence levels = 95% confidence levels\n",
    "\n",
    "#p-value<0.05 to reject null hypothesis"
   ]
  },
  {
   "cell_type": "code",
   "execution_count": 799,
   "id": "eaf38f2b",
   "metadata": {},
   "outputs": [
    {
     "data": {
      "text/plain": [
       "(0.35050625754056075, 5.6725221807862186e-11)"
      ]
     },
     "execution_count": 799,
     "metadata": {},
     "output_type": "execute_result"
    }
   ],
   "source": [
    "stats.pearsonr(films.Clean, films.Overall)"
   ]
  },
  {
   "cell_type": "code",
   "execution_count": null,
   "id": "c5326022",
   "metadata": {},
   "outputs": [],
   "source": [
    "#Conclusion: p<0.05, we can reject null hypothesis and accept alernate hypotheis\n",
    "#Business Conlcusion:with 95% confidence , we can say there is effect of Clean on overall customer satisfaction"
   ]
  },
  {
   "cell_type": "code",
   "execution_count": 807,
   "id": "8c7d0fae",
   "metadata": {
    "scrolled": false
   },
   "outputs": [
    {
     "data": {
      "text/plain": [
       "2    213\n",
       "1    117\n",
       "Name: Gender, dtype: int64"
      ]
     },
     "execution_count": 807,
     "metadata": {},
     "output_type": "execute_result"
    }
   ],
   "source": [
    "films.Gender.value_counts()"
   ]
  },
  {
   "cell_type": "code",
   "execution_count": 847,
   "id": "3d32a9a0",
   "metadata": {},
   "outputs": [
    {
     "data": {
      "text/plain": [
       "2    0.645455\n",
       "1    0.354545\n",
       "Name: Gender, dtype: float64"
      ]
     },
     "execution_count": 847,
     "metadata": {},
     "output_type": "execute_result"
    }
   ],
   "source": [
    "films.Gender.value_counts()/films.Gender.value_counts().sum()"
   ]
  },
  {
   "cell_type": "code",
   "execution_count": 816,
   "id": "a9393c12",
   "metadata": {},
   "outputs": [
    {
     "data": {
      "text/plain": [
       "2    230\n",
       "1    100\n",
       "Name: Marital_Status, dtype: int64"
      ]
     },
     "execution_count": 816,
     "metadata": {},
     "output_type": "execute_result"
    }
   ],
   "source": [
    "films.Marital_Status.value_counts()"
   ]
  },
  {
   "cell_type": "code",
   "execution_count": 845,
   "id": "52cf266b",
   "metadata": {},
   "outputs": [
    {
     "data": {
      "text/plain": [
       "2    0.69697\n",
       "1    0.30303\n",
       "Name: Marital_Status, dtype: float64"
      ]
     },
     "execution_count": 845,
     "metadata": {},
     "output_type": "execute_result"
    }
   ],
   "source": [
    "films.Marital_Status.value_counts()/films.Marital_Status.value_counts().sum()"
   ]
  },
  {
   "cell_type": "code",
   "execution_count": 821,
   "id": "1af65a80",
   "metadata": {
    "scrolled": false
   },
   "outputs": [
    {
     "data": {
      "text/plain": [
       "2    177\n",
       "3    117\n",
       "1     26\n",
       "4     10\n",
       "Name: Age, dtype: int64"
      ]
     },
     "execution_count": 821,
     "metadata": {},
     "output_type": "execute_result"
    }
   ],
   "source": [
    "films.Age.value_counts()"
   ]
  },
  {
   "cell_type": "code",
   "execution_count": 846,
   "id": "d603ef7a",
   "metadata": {},
   "outputs": [
    {
     "data": {
      "text/plain": [
       "2    0.536364\n",
       "3    0.354545\n",
       "1    0.078788\n",
       "4    0.030303\n",
       "Name: Age, dtype: float64"
      ]
     },
     "execution_count": 846,
     "metadata": {},
     "output_type": "execute_result"
    }
   ],
   "source": [
    "films.Age.value_counts()/films.Age.value_counts().sum()"
   ]
  },
  {
   "cell_type": "code",
   "execution_count": 829,
   "id": "00d68a67",
   "metadata": {},
   "outputs": [
    {
     "data": {
      "text/plain": [
       "1    158\n",
       "3     90\n",
       "2     82\n",
       "Name: Income, dtype: int64"
      ]
     },
     "execution_count": 829,
     "metadata": {},
     "output_type": "execute_result"
    }
   ],
   "source": [
    "films.Income.value_counts()"
   ]
  },
  {
   "cell_type": "code",
   "execution_count": 848,
   "id": "deb6734e",
   "metadata": {},
   "outputs": [
    {
     "data": {
      "text/plain": [
       "1    0.478788\n",
       "3    0.272727\n",
       "2    0.248485\n",
       "Name: Income, dtype: float64"
      ]
     },
     "execution_count": 848,
     "metadata": {},
     "output_type": "execute_result"
    }
   ],
   "source": [
    "films.Income.value_counts()/films.Income.value_counts().sum()"
   ]
  },
  {
   "cell_type": "code",
   "execution_count": null,
   "id": "6497f509",
   "metadata": {},
   "outputs": [],
   "source": [
    "#5d - In what media outlet(s) should the film series be advertised?"
   ]
  },
  {
   "cell_type": "code",
   "execution_count": 844,
   "id": "fb636978",
   "metadata": {},
   "outputs": [
    {
     "data": {
      "text/plain": [
       "5      233\n",
       "4       41\n",
       "1       22\n",
       "3       14\n",
       "2       12\n",
       "2,5      2\n",
       "3,4      2\n",
       "4,5      1\n",
       "1,5      1\n",
       "5,4      1\n",
       "3,5      1\n",
       "Name: Hear_About, dtype: int64"
      ]
     },
     "execution_count": 844,
     "metadata": {},
     "output_type": "execute_result"
    }
   ],
   "source": [
    "films.Hear_About.value_counts()"
   ]
  },
  {
   "cell_type": "code",
   "execution_count": 843,
   "id": "fbcc8eee",
   "metadata": {
    "scrolled": true
   },
   "outputs": [
    {
     "data": {
      "text/plain": [
       "5      0.706061\n",
       "4      0.124242\n",
       "1      0.066667\n",
       "3      0.042424\n",
       "2      0.036364\n",
       "2,5    0.006061\n",
       "3,4    0.006061\n",
       "4,5    0.003030\n",
       "1,5    0.003030\n",
       "5,4    0.003030\n",
       "3,5    0.003030\n",
       "Name: Hear_About, dtype: float64"
      ]
     },
     "execution_count": 843,
     "metadata": {},
     "output_type": "execute_result"
    }
   ],
   "source": [
    "films.Hear_About.value_counts()/films.Hear_About.value_counts().sum()"
   ]
  },
  {
   "cell_type": "code",
   "execution_count": null,
   "id": "24886262",
   "metadata": {},
   "outputs": [],
   "source": [
    "#Conclusion : through word of mouth,film series should be advertised"
   ]
  }
 ],
 "metadata": {
  "kernelspec": {
   "display_name": "Python 3 (ipykernel)",
   "language": "python",
   "name": "python3"
  },
  "language_info": {
   "codemirror_mode": {
    "name": "ipython",
    "version": 3
   },
   "file_extension": ".py",
   "mimetype": "text/x-python",
   "name": "python",
   "nbconvert_exporter": "python",
   "pygments_lexer": "ipython3",
   "version": "3.9.12"
  }
 },
 "nbformat": 4,
 "nbformat_minor": 5
}
